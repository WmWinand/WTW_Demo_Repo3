{
 "cells": [
  {
   "cell_type": "markdown",
   "metadata": {},
   "source": [
    "# Course Set Up\n",
    "\n",
    "#### Keyboard Shortcuts for JupyterLab\n",
    "- **Execute a cell**: Shift + Enter\n",
    "- **Toggle between edit and command mode**: Esc and Enter\n",
    "- **Once in command mode (Esc)**:\n",
    "    - **Scroll up and down your cells**: Up and Down keys.\n",
    "    - **Insert a new cell**: Press A or B to insert a new cell above or below the active cell.\n",
    "    - **Transform the active cell to a Markdown cell**: M\n",
    "    - **Transform the active cell to a Code cell**: Y"
   ]
  },
  {
   "cell_type": "code",
   "execution_count": null,
   "metadata": {
    "tags": []
   },
   "outputs": [],
   "source": [
    "##\n",
    "## Import package\n",
    "##\n",
    "import swat\n",
    "\n",
    "\n",
    "##\n",
    "## Set data source caslib\n",
    "##\n",
    "source_caslib = 'PIVY'\n",
    "\n",
    "\n",
    "## Connect to SAS Viya\n",
    "try:\n",
    "    conn = swat.CAS('server.demo.sas.com', 30571, 'student', 'Metadata0', name='CourseSetUp')\n",
    "    print('Connection to SAS Viya successful')\n",
    "except:\n",
    "    raise TypeError('Connection to SAS Viya was unsuccessful. Please make sure you can connect to SAS Viya to take this course.')   \n",
    "    \n",
    "\n",
    "##\n",
    "## Check to see if all available data source files are in the PIVY caslib\n",
    "##\n",
    "\n",
    "## List of the necessary course files\n",
    "NecessaryDS_files = set(['loans_raw.sashdat','customers_raw.csv','appRatings.sashdat','cars.txt','cars.sas7bdat','heart.sashdat'])\n",
    "\n",
    "## List of files in the PIVY caslib\n",
    "try:\n",
    "    currentDS_Files = (set(conn.fileInfo(caslib = source_caslib)['FileInfo']\n",
    "                       .loc[: , 'Name']\n",
    "                       .to_list()))\n",
    "except:\n",
    "    raise TypeError('The PIVY caslib is not available in SAS Viya. The PIVY caslib contains all of data source files for this course.')\n",
    "\n",
    "## Check to see if the course files are in the PIVY caslib\n",
    "if NecessaryDS_files.issubset(currentDS_Files):\n",
    "    print(f'All of the neccessary course files are available in the {source_caslib} caslib.')\n",
    "else:\n",
    "    raise TypeError(\"Some course files are missing.\")\n",
    "        \n",
    "        \n",
    "##\n",
    "## Check to see if the cars CAS table exists in SAS Viya. \n",
    "## If not, load and promote the cars.sas7bdat file into memory as a global scope table\n",
    "##\n",
    "if conn.tableExists(name = 'cars', caslib = 'casuser')['exists'] == 2:\n",
    "    print('The cars table exists in SAS Viya.')\n",
    "else:\n",
    "    conn.loadTable(path = 'cars.sas7bdat', caslib = source_caslib,\n",
    "                    casOUt = {'name':'cars',\n",
    "                              'caslib':'casuser',\n",
    "                               'promote':True})\n",
    "    print('Loaded and promoted the cars.sas7bdat file into SAS Viya.')\n",
    "\n",
    "    \n",
    "print('Begin the SAS Viya and Python Integration Fundamentals course')\n",
    "\n",
    "conn.terminate()"
   ]
  },
  {
   "cell_type": "markdown",
   "metadata": {},
   "source": [
    " "
   ]
  }
 ],
 "metadata": {
  "kernelspec": {
   "display_name": "Python 3 (ipykernel)",
   "language": "python",
   "name": "python3"
  },
  "language_info": {
   "codemirror_mode": {
    "name": "ipython",
    "version": 3
   },
   "file_extension": ".py",
   "mimetype": "text/x-python",
   "name": "python",
   "nbconvert_exporter": "python",
   "pygments_lexer": "ipython3",
   "version": "3.8.12"
  }
 },
 "nbformat": 4,
 "nbformat_minor": 4
}
