{
 "cells": [
  {
   "cell_type": "markdown",
   "metadata": {},
   "source": [
    "# Activity – Use the casOut Parameter with an Action\n",
    "### Documentation:\n",
    "- [SAS® Viya® Actions and Action Sets by Name and Product](https://go.documentation.sas.com/doc/en/pgmsascdc/v_018/allprodsactions/titlepage.htm)\n",
    "- [SAS Scripting Wrapper for Analytics Transfer (SWAT)](https://sassoftware.github.io/python-swat/index.html)"
   ]
  },
  {
   "cell_type": "markdown",
   "metadata": {},
   "source": [
    "1. Execute the cell to import the necessary packages, connect to the CAS server, and load the **HEART** table into memory. Confirm that the table was loaded successfully."
   ]
  },
  {
   "cell_type": "code",
   "execution_count": null,
   "metadata": {},
   "outputs": [],
   "source": [
    "## Import packages\n",
    "import swat\n",
    "import pandas as pd\n",
    "\n",
    "## Set options\n",
    "pd.set_option('display.max_columns', None)\n",
    "\n",
    "## Connect to CAS\n",
    "conn = swat.CAS('server.demo.sas.com', 30571, 'student', 'Metadata0', name = 'py03a06')\n",
    "print(conn)\n",
    "\n",
    "## Load the heart table into memory\n",
    "conn.loadTable(path = 'heart.sashdat', caslib = 'PIVY',\n",
    "               casOut = {'name' : 'heart',\n",
    "                         'caslib' : 'casuser',\n",
    "                         'replace' : True})\n",
    "\n",
    "conn.tableInfo(caslib = 'casuser')"
   ]
  },
  {
   "cell_type": "markdown",
   "metadata": {},
   "source": [
    "2. Execute the cell to reference the **HEART** table from the **Casuser** caslib in a variable named **tbl** and preview the table. "
   ]
  },
  {
   "cell_type": "code",
   "execution_count": null,
   "metadata": {},
   "outputs": [],
   "source": [
    "tbl = conn.CASTable('heart', caslib = 'casuser')\n",
    "tbl.head()"
   ]
  },
  {
   "cell_type": "markdown",
   "metadata": {},
   "source": [
    "3. Review the cell. Notice that a groupBy parameter and a where parameter are added to the **CASTable** object, and then the summary action is being used. Execute the cell and review the results. Notice that ***nine*** separate **SASDataFrames** are created."
   ]
  },
  {
   "cell_type": "code",
   "execution_count": null,
   "metadata": {},
   "outputs": [],
   "source": [
    "tbl.groupBy = ['Chol_Status', 'BP_Status']\n",
    "tbl.where = 'Cholesterol is not null'\n",
    "\n",
    "tbl.summary(inputs = 'Cholesterol', \n",
    "            subSet = ['MEAN','MIN','MAX'])"
   ]
  },
  {
   "cell_type": "markdown",
   "metadata": {},
   "source": [
    "4. Add the casOut parameter in the summary action to create a new table named **CHOL_SUMMARY** in the **Casuser** caslib. Execute the cell. How many rows are in the new CAS table?"
   ]
  },
  {
   "cell_type": "code",
   "execution_count": null,
   "metadata": {},
   "outputs": [],
   "source": [
    "tbl.summary(inputs = 'Cholesterol', \n",
    "            subSet = ['MEAN','MIN','MAX'],\n",
    ")"
   ]
  },
  {
   "cell_type": "markdown",
   "metadata": {},
   "source": [
    "5. Execute the cell to reference and preview the new **CHOL_SUMMARY** CAS table. Notice the results are summarized into a single CAS table."
   ]
  },
  {
   "cell_type": "code",
   "execution_count": null,
   "metadata": {},
   "outputs": [],
   "source": [
    "chol_summary = conn.CASTable('chol_summary', caslib = 'casuser')\n",
    "chol_summary.head(10)"
   ]
  },
  {
   "cell_type": "markdown",
   "metadata": {},
   "source": [
    "Terminate the CAS session."
   ]
  },
  {
   "cell_type": "code",
   "execution_count": null,
   "metadata": {},
   "outputs": [],
   "source": [
    "conn.terminate()"
   ]
  },
  {
   "cell_type": "markdown",
   "metadata": {},
   "source": [
    "## Solution"
   ]
  },
  {
   "cell_type": "code",
   "execution_count": null,
   "metadata": {
    "jupyter": {
     "source_hidden": true
    },
    "tags": []
   },
   "outputs": [],
   "source": [
    "## Answer: 9\n",
    "\n",
    "## 4\n",
    "tbl.summary(inputs = 'Cholesterol', \n",
    "            subSet = ['MEAN','MIN','MAX'], \n",
    "            casOut = {'name' : 'chol_summary', \n",
    "                      'caslib' : 'casuser', \n",
    "                      'replace' : True})"
   ]
  }
 ],
 "metadata": {
  "kernelspec": {
   "display_name": "Python 3 (ipykernel)",
   "language": "python",
   "name": "python3"
  },
  "language_info": {
   "codemirror_mode": {
    "name": "ipython",
    "version": 3
   },
   "file_extension": ".py",
   "mimetype": "text/x-python",
   "name": "python",
   "nbconvert_exporter": "python",
   "pygments_lexer": "ipython3",
   "version": "3.8.12"
  }
 },
 "nbformat": 4,
 "nbformat_minor": 4
}
