{
 "cells": [
  {
   "cell_type": "markdown",
   "metadata": {},
   "source": [
    "# Activity – Load a Server-Side File Into Memory\n",
    "### Documentation:\n",
    "- [SAS® Viya® Actions and Action Sets by Name and Product](https://go.documentation.sas.com/doc/en/pgmsascdc/v_018/allprodsactions/titlepage.htm)\n",
    "- [SAS Scripting Wrapper for Analytics Transfer (SWAT)](https://sassoftware.github.io/python-swat/index.html)"
   ]
  },
  {
   "cell_type": "markdown",
   "metadata": {},
   "source": [
    "1. Execute the cell to import the necessary packages and connect to the CAS server. Confirm that the connection was successful."
   ]
  },
  {
   "cell_type": "code",
   "execution_count": null,
   "metadata": {},
   "outputs": [],
   "source": [
    "## Import packages\n",
    "import swat\n",
    "import pandas as pd\n",
    "\n",
    "## Set options\n",
    "pd.set_option('display.max_columns', None)\n",
    "\n",
    "## Connect to CAS\n",
    "conn = swat.CAS('server.demo.sas.com', 30571, 'student', 'Metadata0', name = 'py02a01')\n",
    "print(conn)"
   ]
  },
  {
   "cell_type": "markdown",
   "metadata": {},
   "source": [
    "2. Execute the cell to view all available data sources files in the **PIVY** caslib. Confirm that the **heart.sashdat** file exists."
   ]
  },
  {
   "cell_type": "code",
   "execution_count": null,
   "metadata": {},
   "outputs": [],
   "source": [
    "conn.fileInfo(caslib = 'PIVY')"
   ]
  },
  {
   "cell_type": "markdown",
   "metadata": {},
   "source": [
    "3. Add the loadTable action to load the **heart.sashdat** data source file into memory. Load the file into the **Casuser** caslib and name the in-memory table **HEART**. Execute the cell. Confirm that the load was successful."
   ]
  },
  {
   "cell_type": "code",
   "execution_count": null,
   "metadata": {},
   "outputs": [],
   "source": []
  },
  {
   "cell_type": "markdown",
   "metadata": {},
   "source": [
    "4. Reference the **HEART** in-memory table in the variable **tbl**. Then, execute the cell to use the sort_values and head methods to preview the CAS table. What is the value of **AgeAtStart** for the first row?"
   ]
  },
  {
   "cell_type": "code",
   "execution_count": null,
   "metadata": {},
   "outputs": [],
   "source": [
    "## Reference the heart CAS table in the variable tbl\n",
    "tbl = \n",
    "\n",
    "\n",
    "## Preview the HEART CAS table. Sort by AgeAtStart.\n",
    "(tbl\n",
    " .sort_values(by = ['AgeAtStart'])\n",
    " .head())"
   ]
  },
  {
   "cell_type": "markdown",
   "metadata": {},
   "source": [
    "Terminate the CAS session."
   ]
  },
  {
   "cell_type": "code",
   "execution_count": null,
   "metadata": {},
   "outputs": [],
   "source": [
    "conn.terminate()"
   ]
  },
  {
   "cell_type": "markdown",
   "metadata": {},
   "source": [
    "## Solution"
   ]
  },
  {
   "cell_type": "code",
   "execution_count": null,
   "metadata": {
    "jupyter": {
     "source_hidden": true
    },
    "tags": []
   },
   "outputs": [],
   "source": [
    "## Answer: 28, 28.0\n",
    "\n",
    "#3\n",
    "conn.loadTable(path='heart.sashdat', caslib = 'PIVY',\n",
    "               casOut={'name' : 'heart',\n",
    "                       'caslib' : 'casuser'})\n",
    "\n",
    "#4\n",
    "tbl = conn.CASTable('heart', caslib = 'casuser')"
   ]
  }
 ],
 "metadata": {
  "kernelspec": {
   "display_name": "Python 3 (ipykernel)",
   "language": "python",
   "name": "python3"
  },
  "language_info": {
   "codemirror_mode": {
    "name": "ipython",
    "version": 3
   },
   "file_extension": ".py",
   "mimetype": "text/x-python",
   "name": "python",
   "nbconvert_exporter": "python",
   "pygments_lexer": "ipython3",
   "version": "3.8.12"
  }
 },
 "nbformat": 4,
 "nbformat_minor": 4
}
