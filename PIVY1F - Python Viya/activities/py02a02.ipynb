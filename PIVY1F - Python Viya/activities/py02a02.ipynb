{
 "cells": [
  {
   "cell_type": "markdown",
   "metadata": {},
   "source": [
    "# Activity – Load a Client-Side File Into Memory\n",
    "### Documentation:\n",
    "- [SAS® Viya® Actions and Action Sets by Name and Product](https://go.documentation.sas.com/doc/en/pgmsascdc/v_018/allprodsactions/titlepage.htm)\n",
    "- [SAS Scripting Wrapper for Analytics Transfer (SWAT)](https://sassoftware.github.io/python-swat/index.html)"
   ]
  },
  {
   "cell_type": "markdown",
   "metadata": {},
   "source": [
    "1. Execute the cell to import the necessary packages and connect to the CAS server. Confirm that the connection was successful."
   ]
  },
  {
   "cell_type": "code",
   "execution_count": null,
   "metadata": {},
   "outputs": [],
   "source": [
    "## Import packages\n",
    "import swat\n",
    "import pandas as pd\n",
    "import os\n",
    "\n",
    "## Set options\n",
    "pd.set_option('display.max_columns', None)\n",
    "\n",
    "## Connect to CAS\n",
    "conn = swat.CAS('server.demo.sas.com', 30571, 'student', 'Metadata0', name = 'py02a02a')\n",
    "print(conn)"
   ]
  },
  {
   "cell_type": "markdown",
   "metadata": {},
   "source": [
    "2. Complete the read_csv method by adding the following to upload the **cars.csv** client-side file from your data folder to CAS and execute the cell:\n",
    "*conn.read_csv(...,\n",
    "              casout={'name' : 'clientupload', \n",
    "                      'caslib' : 'casuser'})*\n"
   ]
  },
  {
   "cell_type": "code",
   "execution_count": null,
   "metadata": {},
   "outputs": [],
   "source": [
    "## Path to the client side file cars_client.csv. The CSV file resides in the PIVY -> Data folder on your client.\n",
    "carsFile = (os\n",
    "            .path\n",
    "            .dirname(os.getcwd()) +'\\\\data\\\\cars_client.csv')\n",
    "\n",
    "\n",
    "## Set a list of column names for the CSV file\n",
    "colNames = ['Make', 'Model', 'Type', 'Origin', 'DriveTrain', 'MSRP', 'Invoice',\n",
    "            'EngineSize', 'Cylinders', 'Horsepower', 'MPG_City', 'MPG_Highway',\n",
    "            'Weight', 'Wheelbase', 'Length']\n",
    "\n",
    "\n",
    "## Upload the client-side file cars_client as a CAS table using the read_csv method\n",
    "conn.read_csv(carsFile, \n",
    "              header = None, \n",
    "              names = colNames,\n",
    "              casout = \n",
    ")\n",
    "\n",
    "\n",
    "## View available CAS tables\n",
    "conn.tableInfo()"
   ]
  },
  {
   "cell_type": "markdown",
   "metadata": {},
   "source": [
    "3. Execute the cell to preview the new table."
   ]
  },
  {
   "cell_type": "code",
   "execution_count": null,
   "metadata": {},
   "outputs": [],
   "source": [
    "## Preview the clientupload CAS table\n",
    "carsTbl = conn.CASTable('clientupload', caslib = 'casuser')\n",
    "carsTbl.head()"
   ]
  },
  {
   "cell_type": "markdown",
   "metadata": {},
   "source": [
    "4. Execute the cell to terminate the CAS session and reconnect to CAS. View the results of the tableInfo action. Is the **CLIENTUPLOAD** CAS table still available?"
   ]
  },
  {
   "cell_type": "code",
   "execution_count": null,
   "metadata": {},
   "outputs": [],
   "source": [
    "## Terminate the CAS session\n",
    "conn.terminate()\n",
    "\n",
    "## Reconnect to CAS and view available CAS tables in the Casuser caslib\n",
    "conn = swat.CAS('server.demo.sas.com', 30571, 'student', 'Metadata0', name = 'py02a02b')\n",
    "conn.tableInfo(caslib='casuser')"
   ]
  },
  {
   "cell_type": "markdown",
   "metadata": {},
   "source": [
    "Terminate the CAS session."
   ]
  },
  {
   "cell_type": "code",
   "execution_count": null,
   "metadata": {},
   "outputs": [],
   "source": [
    "conn.terminate()"
   ]
  },
  {
   "cell_type": "markdown",
   "metadata": {
    "tags": []
   },
   "source": [
    "## Solution"
   ]
  },
  {
   "cell_type": "code",
   "execution_count": null,
   "metadata": {
    "jupyter": {
     "source_hidden": true
    },
    "tags": []
   },
   "outputs": [],
   "source": [
    "## Answer: No, the table is not available\n",
    "conn.read_csv(carsFile, \n",
    "              header = None, \n",
    "              names = colNames,\n",
    "              casout = {'name' : 'clientupload', \n",
    "                        'caslib' : 'casuser'})"
   ]
  }
 ],
 "metadata": {
  "kernelspec": {
   "display_name": "Python 3 (ipykernel)",
   "language": "python",
   "name": "python3"
  },
  "language_info": {
   "codemirror_mode": {
    "name": "ipython",
    "version": 3
   },
   "file_extension": ".py",
   "mimetype": "text/x-python",
   "name": "python",
   "nbconvert_exporter": "python",
   "pygments_lexer": "ipython3",
   "version": "3.8.12"
  }
 },
 "nbformat": 4,
 "nbformat_minor": 4
}
