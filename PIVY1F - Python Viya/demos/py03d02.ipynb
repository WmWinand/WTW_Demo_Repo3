{
 "cells": [
  {
   "cell_type": "markdown",
   "metadata": {},
   "source": [
    "# Demo: Applying Parameters to the CASTable Object"
   ]
  },
  {
   "cell_type": "markdown",
   "metadata": {},
   "source": [
    "### 1. Import Packages and Connect to the CAS Server\n",
    "\n",
    "Visit the documentation for the SWAT [(SAS Scripting Wrapper for Analytics Transfer)](https://sassoftware.github.io/python-swat/index.html) package."
   ]
  },
  {
   "cell_type": "code",
   "execution_count": null,
   "metadata": {},
   "outputs": [],
   "source": [
    "## Import packages\n",
    "import swat\n",
    "import pandas as pd\n",
    "import matplotlib.pyplot as plt\n",
    "plt.style.use('seaborn')\n",
    "\n",
    "## Set options\n",
    "pd.set_option('display.max_columns', None)\n",
    "\n",
    "## Connect to CAS\n",
    "conn = swat.CAS('server.demo.sas.com', 30571, 'student', 'Metadata0', name = 'py03d02')\n",
    "\n",
    "## Function to load the loans_raw.sashdat file into memory if necessary\n",
    "def loadLoans():\n",
    "    conn.loadTable(path ='loans_raw.sashdat', caslib = 'PIVY',\n",
    "                   casOut = {'name' : 'loans_raw',\n",
    "                            'caslib' : 'casuser',\n",
    "                            'promote' : True})"
   ]
  },
  {
   "cell_type": "markdown",
   "metadata": {},
   "source": [
    "### 2. Explore Available CAS Tables and Data Source Files\n",
    "\n",
    "\n",
    "a. Use the tableInfo action to view all available in-memory tables in the **Casuser** caslib. If the **LOANS_RAW** CAS table is not available, uncomment the loadLoans function and execute the cell."
   ]
  },
  {
   "cell_type": "code",
   "execution_count": null,
   "metadata": {},
   "outputs": [],
   "source": [
    "#loadLoans()\n",
    "conn.tableInfo(caslib = 'casuser')"
   ]
  },
  {
   "cell_type": "markdown",
   "metadata": {},
   "source": [
    "b. Reference the **loans_raw** CAS table in the variable **tbl** using the CASTable method."
   ]
  },
  {
   "cell_type": "code",
   "execution_count": null,
   "metadata": {},
   "outputs": [],
   "source": [
    "tbl = conn.CASTable('loans_raw', caslib = 'casuser')\n",
    "tbl"
   ]
  },
  {
   "cell_type": "markdown",
   "metadata": {},
   "source": [
    "c. Preview the CAS table using the fetch action."
   ]
  },
  {
   "cell_type": "code",
   "execution_count": null,
   "metadata": {},
   "outputs": [],
   "source": [
    "tbl.fetch(to = 5)"
   ]
  },
  {
   "cell_type": "markdown",
   "metadata": {},
   "source": [
    "### 3. Working with the CAS Table Reference (Three Methods)\n",
    "\n",
    "Reference the **CASTable** object and add a question mark. This enables you to see a full listing of possible **CASTable** parameters.\n",
    "\n",
    "**Note:** You can also access the CAS table parameters in the documentation. Go to an action like the [fetch action](https://go.documentation.sas.com/doc/en/pgmsascdc/v_017/caspg/cas-table-fetch.htm#SAS.cas-table-fetch-table). Scroll down and select the table parameter, and then select the [castable](https://go.documentation.sas.com/doc/en/pgmsascdc/v_017/caspg/compg-castable-742param.htm) parameter link.\n",
    "\n"
   ]
  },
  {
   "cell_type": "code",
   "execution_count": null,
   "metadata": {},
   "outputs": [],
   "source": [
    "tbl?"
   ]
  },
  {
   "cell_type": "markdown",
   "metadata": {},
   "source": [
    "#### Method 1 - Object-Oriented Method"
   ]
  },
  {
   "cell_type": "markdown",
   "metadata": {},
   "source": [
    "a. Print the **tbl** object's type and current value. Notice that **tbl** is a **CASTable** object and it references the **LOANS_RAW** table in the **Casuser** caslib."
   ]
  },
  {
   "cell_type": "code",
   "execution_count": null,
   "metadata": {},
   "outputs": [],
   "source": [
    "display(type(tbl), tbl)"
   ]
  },
  {
   "cell_type": "markdown",
   "metadata": {},
   "source": [
    "b. Add the vars parameter to the **CASTable** object to select a list of columns to retrieve from the input CAS table. Execute the print function and fetch action on the **CASTable** object **tbl**. The print function shows that the vars parameter was added to the **CASTable** object, and the fetch action returns the specified columns from the CAS table."
   ]
  },
  {
   "cell_type": "code",
   "execution_count": null,
   "metadata": {},
   "outputs": [],
   "source": [
    "tbl.vars = ['ID','Salary', 'Category', 'Amount', 'InterestRate']\n",
    "print(tbl)\n",
    "\n",
    "tbl.fetch(to = 5)"
   ]
  },
  {
   "cell_type": "markdown",
   "metadata": {},
   "source": [
    "c. Add the where parameter to subset the input CAS table for all rows where **Category** equals *Credit Card*. Execute the print function and fetch action on the **CASTable** object. The print function shows that the where parameter was added to the **CASTable** object, and fetch action now selects the specified rows and columns."
   ]
  },
  {
   "cell_type": "code",
   "execution_count": null,
   "metadata": {},
   "outputs": [],
   "source": [
    "tbl.where = 'Category = \"Credit Card\"'\n",
    "print(tbl)\n",
    "\n",
    "tbl.fetch(to = 5)"
   ]
  },
  {
   "cell_type": "markdown",
   "metadata": {},
   "source": [
    "c. Add the computedVarsProgram parameter to create calculated columns. The computedVarsProgram parameter can\n",
    "- create multiple columns by separating each assignment statement with a semicolon\n",
    "- use most [SAS functions](https://go.documentation.sas.com/doc/en/pgmsascdc/v_018/lefunctionsref/titlepage.htm?homeOnFail)\n",
    "- execute IF/THEN logic to create new columns\n",
    "- modify the length and label of a column using a SAS LENGTH or LABEL statement\n",
    "\n",
    "In this example, two columns are created:\n",
    "- First, a new column named **MonthlySalary** calculates the monthly salary of each customer by dividing **Salary** by 12. \n",
    "- The second column is created using SAS IF-THEN logic. If **Salary** is less than 50,000 the new column **Tier** will have a value of *Tier1*. If **Salary** greater than or equal to 50,000, and less than 100,000 the value will be *Tier2*. Otherwise, the value is *Other*. \n",
    "\n",
    "Execute the cell. Notice that the new **CASTable** object has the where, vars, and computedVarsProgram parameters.\n",
    "\n",
    "**Note:** Spanning strings over multiple lines can be done using Python’s triple quotation marks."
   ]
  },
  {
   "cell_type": "code",
   "execution_count": null,
   "metadata": {},
   "outputs": [],
   "source": [
    "tbl.computedVarsProgram = '''MonthlySalary = round(Salary/12);\n",
    "                             if Salary < 50000 then Tier = 'Tier1';\n",
    "                                else if Salary < 100000 then Tier = 'Tier2';\n",
    "                                else Tier = 'Other';\n",
    "                          '''\n",
    "tbl"
   ]
  },
  {
   "cell_type": "markdown",
   "metadata": {},
   "source": [
    "d. Display the values specified in the vars parameter. Then execute the fetch action on the new **CASTable** object with the new calculated columns. Notice that even though computedVarsProgram was added to the **CASTable** object, new columns are not shown in the results of the fetch action because they were not specified in the vars parameter. The calculation is occurring, but it's not returned to the client in the output."
   ]
  },
  {
   "cell_type": "code",
   "execution_count": null,
   "metadata": {},
   "outputs": [],
   "source": [
    "## View the value of the vars parameter\n",
    "display(tbl.vars)\n",
    "\n",
    "## Execute the fetch action\n",
    "tbl.fetch(to = 5)"
   ]
  },
  {
   "cell_type": "markdown",
   "metadata": {},
   "source": [
    "e. Add the new calculated columns **MonthlySalary** and **Tier** to the vars parameter using the extend method. Then view the value of the vars parameter in the **CASTable** object and execute the fetch action to view the calculated columns in the results."
   ]
  },
  {
   "cell_type": "code",
   "execution_count": null,
   "metadata": {},
   "outputs": [],
   "source": [
    "tbl.vars.extend(['MonthlySalary','Tier'])\n",
    "display(tbl.vars)\n",
    "\n",
    "tbl.fetch(to = 5)"
   ]
  },
  {
   "cell_type": "markdown",
   "metadata": {},
   "source": [
    "f. The **CASTable** object can also be used with other actions or methods. For example, you can now use the **tbl** object with the head method for similar results. "
   ]
  },
  {
   "cell_type": "code",
   "execution_count": null,
   "metadata": {},
   "outputs": [],
   "source": [
    "tbl.head()"
   ]
  },
  {
   "cell_type": "markdown",
   "metadata": {},
   "source": [
    "g. You can also use an alternate method by adding parameters on the params level. You specify the **CASTable** object **tbl2**, params, and then the parameters to add. Using this method avoids any name collisions that can occur. The cell below produces identical results as the above cells."
   ]
  },
  {
   "cell_type": "code",
   "execution_count": null,
   "metadata": {},
   "outputs": [],
   "source": [
    "## Create a new CASTable reference\n",
    "tbl2 = conn.CASTable('loans_raw', caslib = 'casuser')\n",
    "\n",
    "## Add parameters on the params level\n",
    "tbl2.params.where = 'Category=\"Credit Card\"'\n",
    "tbl2.params.vars = ['ID','Salary','Category', 'Amount', 'InterestRate','MonthlySalary','Tier']\n",
    "tbl2.params.computedVarsProgram = '''MonthlySalary = round(Salary/12);\n",
    "                                     if Salary < 50000 then Tier = 'Tier1';\n",
    "                                       else if Salary < 100000 then Tier = 'Tier2';\n",
    "                                       else Tier = 'Other';\n",
    "                                  '''\n",
    "display(tbl2)\n",
    "\n",
    "tbl2.head(5)"
   ]
  },
  {
   "cell_type": "markdown",
   "metadata": {},
   "source": [
    "h. You can delete individual parameters using the keyword del, and then the **CASTable** object **tbl** and the parameter to delete. Then print the **CASTable** object **tbl** and notice that the where, vars, and computedVarsProgram parameters were removed."
   ]
  },
  {
   "cell_type": "code",
   "execution_count": null,
   "metadata": {},
   "outputs": [],
   "source": [
    "## Delete parameters\n",
    "del tbl.vars\n",
    "del tbl.where\n",
    "del tbl.computedVarsProgram\n",
    "\n",
    "## View the CASTable object\n",
    "print(tbl)\n",
    "\n",
    "## Alternate method to delete multiple parameters in a single step\n",
    "#tbl.del_params('vars', 'where', 'computedvarsprogram')"
   ]
  },
  {
   "cell_type": "markdown",
   "metadata": {},
   "source": [
    "#### Method 2 - Statically Typed"
   ]
  },
  {
   "cell_type": "markdown",
   "metadata": {},
   "source": [
    "You can achieve the same results by adding all the parameters within the table parameter in an action as a dictionary. This method is less flexible than the object-oriented method because you can use this input CAS table only in this action."
   ]
  },
  {
   "cell_type": "code",
   "execution_count": null,
   "metadata": {},
   "outputs": [],
   "source": [
    "conn.fetch(table = {'name' : 'loans_raw',\n",
    "                    'caslib' : 'casuser',\n",
    "                    'vars' : ['ID','Salary','MonthlySalary','Tier','Category', 'Amount', 'InterestRate'],\n",
    "                    'where' : 'Category=\"Credit Card\"',\n",
    "                    'computedVarsProgram' :  '''MonthlySalary  =round(Salary/12);\n",
    "                                                if Salary < 50000 then Tier='Tier1';\n",
    "                                                   else if Salary < 100000 then Tier='Tier2';\n",
    "                                                   else Tier = 'Other';\n",
    "                                             '''},\n",
    "           to = 5)"
   ]
  },
  {
   "cell_type": "markdown",
   "metadata": {},
   "source": [
    "#### Method 3 - Using Variables"
   ]
  },
  {
   "cell_type": "markdown",
   "metadata": {},
   "source": [
    "a. You can also create variables to use in actions. Here, the **monthlySalary** variable is created to hold the string to create the **MonthlySalary** column, and the **tier** variable contains the calculation for the **Tier** column. Then the **input_tbl** variable is created to store a dictionary with information about the input CAS table using the name, caslib, vars, where, and computedVarsProgram parameters. \n",
    "\n",
    "Once the variables are created, you can add them within an action. In this example, the table parameter specifies the **input_tbl** variable. The results are the same as the previous two approaches."
   ]
  },
  {
   "cell_type": "code",
   "execution_count": null,
   "metadata": {},
   "outputs": [],
   "source": [
    "## Specify the computedVarsProgram calculation statements\n",
    "monthlySalary = 'MonthlySalary = round(Salary/12);'\n",
    "tier = '''\n",
    "        if Salary < 50000 then Tier = 'Tier1';\n",
    "          else if Salary < 100000 then Tier = 'Tier2';\n",
    "          else Tier = 'Other';\n",
    "       '''\n",
    "\n",
    "## Specify the table parameter dictionary values\n",
    "input_tbl = {'name' : 'loans_raw',\n",
    "             'caslib' : 'casuser',\n",
    "             'vars' : ['ID','Salary','MonthlySalary','Tier','Category', 'Amount', 'InterestRate'],\n",
    "             'where' : 'Category = \"Credit Card\"',\n",
    "             'computedVarsProgram' :  monthlySalary + tier}\n",
    "\n",
    "conn.fetch(table = input_tbl, to = 5)"
   ]
  },
  {
   "cell_type": "markdown",
   "metadata": {},
   "source": [
    "b. You can also use the Python dict function to create a dictionary using keyword arguments. It avoids having to enclose dictionary key names in quotation marks."
   ]
  },
  {
   "cell_type": "code",
   "execution_count": null,
   "metadata": {},
   "outputs": [],
   "source": [
    "## Alternate using the dict function\n",
    "input_tbl = dict(name = 'loans_raw', \n",
    "                 caslib = 'casuser', \n",
    "                 vars = ['ID','Salary','MonthlySalary','Tier','Category', 'Amount', 'InterestRate'], \n",
    "                 where = 'Category = \"Credit Card\"', \n",
    "                 computedVarsProgram = monthlySalary + tier)\n",
    "\n",
    "conn.fetch(table = input_tbl, to = 5)"
   ]
  },
  {
   "cell_type": "markdown",
   "metadata": {},
   "source": [
    "### 4. Terminate the CAS Session"
   ]
  },
  {
   "cell_type": "markdown",
   "metadata": {},
   "source": [
    "It's best practice to always terminate the CAS session when you are done."
   ]
  },
  {
   "cell_type": "code",
   "execution_count": null,
   "metadata": {},
   "outputs": [],
   "source": [
    "conn.terminate()"
   ]
  },
  {
   "cell_type": "markdown",
   "metadata": {},
   "source": [
    " "
   ]
  }
 ],
 "metadata": {
  "kernelspec": {
   "display_name": "Python 3 (ipykernel)",
   "language": "python",
   "name": "python3"
  },
  "language_info": {
   "codemirror_mode": {
    "name": "ipython",
    "version": 3
   },
   "file_extension": ".py",
   "mimetype": "text/x-python",
   "name": "python",
   "nbconvert_exporter": "python",
   "pygments_lexer": "ipython3",
   "version": "3.8.12"
  }
 },
 "nbformat": 4,
 "nbformat_minor": 4
}
