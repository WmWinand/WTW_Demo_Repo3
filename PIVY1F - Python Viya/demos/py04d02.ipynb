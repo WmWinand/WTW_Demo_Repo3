{
 "cells": [
  {
   "cell_type": "markdown",
   "metadata": {},
   "source": [
    "# Demo: Using Additional CAS Actions"
   ]
  },
  {
   "cell_type": "markdown",
   "metadata": {},
   "source": [
    "### 1. Import Packages and Connect to the CAS Server\n",
    "\n",
    "Visit the documentation for the SWAT [(SAS Scripting Wrapper for Analytics Transfer)](https://sassoftware.github.io/python-swat/index.html) package."
   ]
  },
  {
   "cell_type": "code",
   "execution_count": null,
   "metadata": {},
   "outputs": [],
   "source": [
    "## Import packages\n",
    "import swat\n",
    "import pandas as pd\n",
    "import matplotlib.pyplot as plt\n",
    "plt.style.use('seaborn')\n",
    "import seaborn as sns\n",
    "\n",
    "## Set options\n",
    "pd.set_option('display.max_columns', None)\n",
    "\n",
    "## Connect to CAS\n",
    "conn = swat.CAS('server.demo.sas.com', 30571, 'student', 'Metadata0', name = 'py04d02')\n",
    "\n",
    "## Function to load the loans_raw.sashdat file into memory if necessary\n",
    "def loadLoans():\n",
    "    conn.loadTable(path = 'loans_raw.sashdat', caslib = 'PIVY',\n",
    "                   casOut = {'name' : 'loans_raw',\n",
    "                            'caslib' : 'casuser',\n",
    "                            'promote' : True})"
   ]
  },
  {
   "cell_type": "markdown",
   "metadata": {},
   "source": [
    "### 2. Explore Available CAS Tables\n",
    "\n",
    "a. Use the tableInfo action to view all available in-memory tables in the **Casuser** caslib. If the **LOANS_RAW** CAS table is not available, uncomment the loadLoans function and execute the cell."
   ]
  },
  {
   "cell_type": "code",
   "execution_count": null,
   "metadata": {},
   "outputs": [],
   "source": [
    "#loadLoans()\n",
    "conn.tableInfo(caslib = 'casuser')"
   ]
  },
  {
   "cell_type": "markdown",
   "metadata": {},
   "source": [
    "b. Reference the **LOANS_RAW** CAS table where **Category** equals *Mortgage*. Then preview the table."
   ]
  },
  {
   "cell_type": "code",
   "execution_count": null,
   "metadata": {},
   "outputs": [],
   "source": [
    "mTbl = conn.CASTable('loans_raw', \n",
    "                     caslib = 'casuser', \n",
    "                     where = \"Category = 'Mortgage'\")\n",
    "mTbl.head()"
   ]
  },
  {
   "cell_type": "markdown",
   "metadata": {},
   "source": [
    "### 3. Simple Action Set\n"
   ]
  },
  {
   "cell_type": "markdown",
   "metadata": {},
   "source": [
    "a. You can use the [simple.correlation](https://go.documentation.sas.com/doc/en/pgmsascdc/v_018/casanpg/n11jidodvxk3tkn1sy8636iha1po.htm#p0jytlrw1nn19tn1782gu5c2cv43) action to generate a matrix of Pearson correlation coefficients for two or more input columns. By default, univariate descriptive statistics are also generated for the analysis variables. You can disable the univariate descriptive statistics if you do not need them."
   ]
  },
  {
   "cell_type": "code",
   "execution_count": null,
   "metadata": {},
   "outputs": [],
   "source": [
    "colNames = ['Age', 'EmpLength', 'Amount', 'InterestRate', 'LoanLength']\n",
    "mTbl.correlation(inputs = colNames)\n",
    "\n",
    "## Alternate version\n",
    "#mTbl.vars = ['Age', 'EmpLength', 'Amount', 'InterestRate', 'LoanLength']\n",
    "#mTbl.correlation()"
   ]
  },
  {
   "cell_type": "markdown",
   "metadata": {},
   "source": [
    "b. The SWAT package also provides the Pandas corr method to return similar results."
   ]
  },
  {
   "cell_type": "code",
   "execution_count": null,
   "metadata": {},
   "outputs": [],
   "source": [
    "mTbl[colNames].corr()"
   ]
  },
  {
   "cell_type": "markdown",
   "metadata": {},
   "source": [
    "c. Use the [simple.topk](https://go.documentation.sas.com/doc/en/pgmsascdc/v_018/casanpg/cas-simple-topk.htm) action to return the top-K and bottom-K distinct values of each column included in the list. In this example the top five and bottom five mortgage interest rates are returned. The inputs parameter specifies the **InterestRate** column, and the raw parameter specifies to use the raw values and avoid masking values with any SAS formats. The action returns two **SASDataFrames**. The first shows the top five and bottom five interest rates, and the second shows the number of unique values in the column."
   ]
  },
  {
   "cell_type": "code",
   "execution_count": null,
   "metadata": {},
   "outputs": [],
   "source": [
    "mTbl.topk(inputs = 'InterestRate',\n",
    "          topk = 5,\n",
    "          bottomk = 5,\n",
    "          raw = True) # <-avoid masking by autoformatting values"
   ]
  },
  {
   "cell_type": "markdown",
   "metadata": {},
   "source": [
    "d. You can also use an aggregator within the topk action to find the top n and bottom n values based on an aggregation. Here, we specify the mean aggregator to aggregate **Amount** by each value of **LoanGrade**, and then return the loan grade with the highest and lowest mean value. "
   ]
  },
  {
   "cell_type": "code",
   "execution_count": null,
   "metadata": {},
   "outputs": [],
   "source": [
    "mTbl.topk(inputs = 'LoanGrade',  ## <--group for the aggregator\n",
    "          weight = 'Amount',     ## <--specify the column to aggregate\n",
    "          aggregator = 'MEAN',   ## <--how to aggregate\n",
    "          raw = True)"
   ]
  },
  {
   "cell_type": "markdown",
   "metadata": {},
   "source": [
    "### 4. Percentile Action Set"
   ]
  },
  {
   "cell_type": "markdown",
   "metadata": {},
   "source": [
    "a. Load and view the percentile action set. Notice that the percentile action set contains three actions: assess, boxplot, and percentile."
   ]
  },
  {
   "cell_type": "code",
   "execution_count": null,
   "metadata": {},
   "outputs": [],
   "source": [
    "conn.loadActionSet('percentile')\n",
    "conn.percentile?"
   ]
  },
  {
   "cell_type": "markdown",
   "metadata": {},
   "source": [
    "b. Group the mortgage loans by **LoanGrade**, and then execute the [percentile.boxplot](https://go.documentation.sas.com/doc/en/pgmsascdc/v_018/casanpg/cas-percentile-boxplot.htm) action to calculate quantiles, high and low whiskers, and outliers of **InterestRate** by each value of **LoanGrade**. Because the table is grouped, you must use the concat_bygroups method to concatenate each individual by group. Then call the *BoxPlot* key to return the **SASDataFrame**.\n",
    "\n",
    "**Note**: If you do not specify the action set, the boxplot plotting method is called."
   ]
  },
  {
   "cell_type": "code",
   "execution_count": null,
   "metadata": {},
   "outputs": [],
   "source": [
    "mTbl.groupBy = ['LoanGrade']\n",
    "\n",
    "(mTbl\n",
    " .percentile\n",
    " .boxplot(inputs = 'InterestRate')\n",
    " .concat_bygroups()\n",
    " ['BoxPlot'])"
   ]
  },
  {
   "cell_type": "markdown",
   "metadata": {},
   "source": [
    "c. The [percentile.percentile](https://go.documentation.sas.com/doc/en/pgmsascdc/v_018/casanpg/cas-percentile-percentile.htm) action calculates quantiles and percentiles. Here, the groupby parameter is deleted from the **CASTable** object, and then the percentile action is executed on the **Amount** and **InterestRate** columns. Notice that the action returns a **CASResults** object with a single **SASDataFrame** with percentiles for each column."
   ]
  },
  {
   "cell_type": "code",
   "execution_count": null,
   "metadata": {},
   "outputs": [],
   "source": [
    "del mTbl.groupby\n",
    "display(mTbl)\n",
    "\n",
    "mTbl.percentile(inputs = ['Amount', 'InterestRate'])"
   ]
  },
  {
   "cell_type": "markdown",
   "metadata": {},
   "source": [
    "### 5. dataPreprocess Action Set"
   ]
  },
  {
   "cell_type": "markdown",
   "metadata": {},
   "source": [
    "a. Load and view the dataPreprocess action set. Notice that the dataPreprocess action set contains a variety of actions."
   ]
  },
  {
   "cell_type": "code",
   "execution_count": null,
   "metadata": {},
   "outputs": [],
   "source": [
    "conn.loadActionSet('dataPreprocess')\n",
    "conn.dataPreprocess?"
   ]
  },
  {
   "cell_type": "markdown",
   "metadata": {},
   "source": [
    "b. Execute thie [dataPreprocess.histogram](https://go.documentation.sas.com/doc/en/pgmsascdc/v_018/casanpg/cas-datapreprocess-histogram.htm) action to generate histogram bins and simple bin-based statistics for the **InterestRate** column. Store the **SASDataFrame** from the results of the histogram action by calling the *BinDetails* key in the **CASResults** object."
   ]
  },
  {
   "cell_type": "code",
   "execution_count": null,
   "metadata": {},
   "outputs": [],
   "source": [
    "histDf = mTbl.histogram(inputs = ['InterestRate'],\n",
    "                        requestPackages = [{'nbins':10, \n",
    "                                            'binStart':0,\n",
    "                                            'niceBinning':False}])['BinDetails']\n",
    "\n",
    "histDf"
   ]
  },
  {
   "cell_type": "markdown",
   "metadata": {},
   "source": [
    "c Using the **histDf** variable, you can use the **MidPoint** and **Percent** columns to plot a bar chart to visualize the histogram results.\n",
    "\n",
    "**Note**: The histogram action enables you to summarize extremely large tables, and then you can use the result of the action to visualize the results on the client."
   ]
  },
  {
   "cell_type": "code",
   "execution_count": null,
   "metadata": {},
   "outputs": [],
   "source": [
    "ax = plt.figure(figsize = (10,5))\n",
    "ax = sns.barplot(data = histDf, x = 'MidPoint', y = 'Percent', color = 'blue')\n",
    "ax.set(title = 'Histogram of Mortgage Interest Rates');"
   ]
  },
  {
   "cell_type": "markdown",
   "metadata": {},
   "source": [
    "### 6. dataShaping Action Set"
   ]
  },
  {
   "cell_type": "markdown",
   "metadata": {},
   "source": [
    "a. Load and view the [dataShaping](https://go.documentation.sas.com/doc/en/pgmsascdc/v_017/casanpg/cas-datashaping-TblOfActions.htm?homeOnFail) action set. Notice that it contains two actions for transposing data, longToWide and wideToLong.\n",
    "\n",
    "**Note:** The dataShaping action set was added in SAS Viya 2021.1.2. Prior versions should use the [transpose.transpose](https://go.documentation.sas.com/doc/en/pgmsascdc/v_018/caspg/cas-transpose-transpose.htm) action."
   ]
  },
  {
   "cell_type": "code",
   "execution_count": null,
   "metadata": {},
   "outputs": [],
   "source": [
    "conn.loadActionSet('dataShaping')\n",
    "conn.dataShaping?"
   ]
  },
  {
   "cell_type": "markdown",
   "metadata": {},
   "source": [
    "b. To work with the dataShaping action set, we will create a small five-row wide CAS table as a demonstration from the **customers_raw.csv** data source file."
   ]
  },
  {
   "cell_type": "code",
   "execution_count": null,
   "metadata": {},
   "outputs": [],
   "source": [
    "## Load the customers_raw.csv file into memory with the specified parameters\n",
    "conn.loadTable(path = 'customers_raw.csv', caslib = 'PIVY', \n",
    "               vars = ['ID','LoanCreditCard', 'SavingsAcct', 'CheckingAcct'],\n",
    "               casOut = {'replace' : True})\n",
    "\n",
    "## Reference the CAS table\n",
    "customers = conn.CASTable('customers_raw', caslib = 'casuser')\n",
    "\n",
    "## Create a five-row DataFrame from the wide table as a sample\n",
    "df = (customers\n",
    "      .sort_values('ID')\n",
    "      .head())\n",
    "\n",
    "## Upload the DataFrame to CAS\n",
    "conn.upload(df, \n",
    "            casOut = {'name' : 'wideTest', \n",
    "                      'replace': True})\n",
    "\n",
    "## Preview the new table\n",
    "custTbl = conn.CASTable('wideTest', caslib = 'casuser')\n",
    "custTbl.head()"
   ]
  },
  {
   "cell_type": "markdown",
   "metadata": {},
   "source": [
    "c. To transform the wide CAS table to a long table use the [dataShaping.wideToLong](https://go.documentation.sas.com/doc/en/pgmsascdc/v_018/casanpg/cas-datashaping-widetolong.htm) action. Start by creating two variables to specify the input CAS table and the output CAS table. Then in the wideToLong action, use\n",
    "\n",
    "- the **inputTbl** variable to specify the input table \n",
    "- the id parameter to specify the customer **ID** column \n",
    "- the inputs parameter to specify the columns to transpose \n",
    "- the variableName parameter to specify the name of the column in the output table that has values that are column names from the input table \n",
    "- the valueName parameter to specify the name of a column in the output table that has values from the input table\n",
    "- the casOut parameter to use the **outputTbl** variable to specify the new CAS table.\n",
    "\n",
    "The action returns a **CASResults** object with information about the new CAS table."
   ]
  },
  {
   "cell_type": "code",
   "execution_count": null,
   "metadata": {},
   "outputs": [],
   "source": [
    "## Specify the input and output table information\n",
    "inputTbl = {'name' : 'wideTest', \n",
    "            'caslib' : 'casuser'}\n",
    "\n",
    "outputTbl = dict(name = 'LongTest', \n",
    "                 caslib = 'casuser', \n",
    "                 replace = True)\n",
    "\n",
    "## Tranpose the table\n",
    "conn.wideToLong(table = inputTbl,                                               \n",
    "                id = 'ID', \n",
    "                inputs = ['LoanCreditCard','SavingsAcct','CheckingAcct'],\n",
    "                variableName = 'AccountType',\n",
    "                valueName = 'AccountExists',\n",
    "                casOut = outputTbl)"
   ]
  },
  {
   "cell_type": "markdown",
   "metadata": {},
   "source": [
    "d. Preview the new CAS table. Notice that the wide table was transposed to a long table."
   ]
  },
  {
   "cell_type": "code",
   "execution_count": null,
   "metadata": {},
   "outputs": [],
   "source": [
    "longTbl = conn.CASTable('LongTest', caslib = 'casuser')\n",
    "longTbl.head(15)"
   ]
  },
  {
   "cell_type": "markdown",
   "metadata": {},
   "source": [
    "### 7. Terminate the CAS Session"
   ]
  },
  {
   "cell_type": "markdown",
   "metadata": {},
   "source": [
    "It's best practice to always terminate the CAS session when you are done."
   ]
  },
  {
   "cell_type": "code",
   "execution_count": null,
   "metadata": {},
   "outputs": [],
   "source": [
    "conn.terminate()"
   ]
  },
  {
   "cell_type": "markdown",
   "metadata": {},
   "source": [
    " "
   ]
  }
 ],
 "metadata": {
  "kernelspec": {
   "display_name": "Python 3 (ipykernel)",
   "language": "python",
   "name": "python3"
  },
  "language_info": {
   "codemirror_mode": {
    "name": "ipython",
    "version": 3
   },
   "file_extension": ".py",
   "mimetype": "text/x-python",
   "name": "python",
   "nbconvert_exporter": "python",
   "pygments_lexer": "ipython3",
   "version": "3.8.12"
  },
  "toc-autonumbering": false,
  "toc-showcode": false,
  "toc-showmarkdowntxt": false
 },
 "nbformat": 4,
 "nbformat_minor": 4
}
