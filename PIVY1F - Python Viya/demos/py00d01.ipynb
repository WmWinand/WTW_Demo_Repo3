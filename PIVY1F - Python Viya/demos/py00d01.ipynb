{
 "cells": [
  {
   "cell_type": "markdown",
   "metadata": {},
   "source": [
    "# Demo: SAS Viya and Python Integration Fundamentals\n",
    "The goal in using SAS Viya and Python is to process big data on the massively parallel processing engine in SAS Viya, and then return the smaller summarized results back to your Python client. Once the results are on your client, you can use familiar Python packages on the results."
   ]
  },
  {
   "cell_type": "markdown",
   "metadata": {},
   "source": [
    "### 1. Import Packages and Connect to SAS Viya"
   ]
  },
  {
   "cell_type": "code",
   "execution_count": null,
   "metadata": {},
   "outputs": [],
   "source": [
    "## Import packages\n",
    "import swat\n",
    "import pandas as pd\n",
    "import seaborn as sns\n",
    "import matplotlib.pyplot as plt\n",
    "plt.style.use('seaborn')\n",
    "\n",
    "## Set options\n",
    "pd.set_option('display.max_columns', None)\n",
    "\n",
    "## Connect to SAS Viya\n",
    "conn = swat.CAS('server.demo.sas.com', 30571, 'student', 'Metadata0', name = 'py00d01')\n",
    "display(conn)"
   ]
  },
  {
   "cell_type": "markdown",
   "metadata": {},
   "source": [
    "### 2. Explore Available Data in SAS Viya"
   ]
  },
  {
   "cell_type": "code",
   "execution_count": null,
   "metadata": {},
   "outputs": [],
   "source": [
    "## View available data sources in SAS Viya\n",
    "ci = conn.caslibInfo()\n",
    "\n",
    "## View available data source files\n",
    "fi = conn.fileInfo(caslib = 'PIVY')\n",
    "\n",
    "## View available in-memory tables\n",
    "ti = conn.tableInfo(caslib = 'casuser')\n",
    "\n",
    "display(ci, fi, ti)"
   ]
  },
  {
   "cell_type": "markdown",
   "metadata": {},
   "source": [
    "### 3. Load Data into Memory in SAS Viya"
   ]
  },
  {
   "cell_type": "code",
   "execution_count": null,
   "metadata": {},
   "outputs": [],
   "source": [
    "## Load a table into memory and display the output\n",
    "lt = conn.loadTable(path = 'loans_raw.sashdat', caslib = 'PIVY',\n",
    "                    casOut = {'caslib' : 'casuser', \n",
    "                              'replace' : True})\n",
    "\n",
    "## View available in-memory tables\n",
    "ti = conn.tableInfo(caslib = 'casuser')\n",
    "\n",
    "display(lt, ti)"
   ]
  },
  {
   "cell_type": "markdown",
   "metadata": {},
   "source": [
    "### 4. Make a Reference to a Table in SAS Viya"
   ]
  },
  {
   "cell_type": "code",
   "execution_count": null,
   "metadata": {},
   "outputs": [],
   "source": [
    "## Create a reference to a table and view the object\n",
    "tbl = conn.CASTable('loans_raw', caslib = 'casuser')\n",
    "tbl"
   ]
  },
  {
   "cell_type": "markdown",
   "metadata": {},
   "source": [
    "### 5. Explore a Table"
   ]
  },
  {
   "cell_type": "code",
   "execution_count": null,
   "metadata": {},
   "outputs": [],
   "source": [
    "## View the dimensions of the table\n",
    "shape = tbl.shape\n",
    "\n",
    "## Preview the table\n",
    "df_head = tbl.head()\n",
    "\n",
    "## View column attributes\n",
    "df_ci = tbl.columnInfo()\n",
    "\n",
    "## Obtain summary statistics\n",
    "colNames = ['Age', 'Salary', 'EmpLength', 'Amount', 'InterestRate']\n",
    "df_summary = tbl.summary(input = colNames)\n",
    "\n",
    "## Obtain missing and distinct values\n",
    "maxDistinct = 10000\n",
    "df_distinct = (tbl\n",
    "               .distinct(maxNVals = maxDistinct)['Distinct']\n",
    "               .query(f'NDistinct != {maxDistinct}'))\n",
    "\n",
    "## Display the results from SAS Viya\n",
    "display(shape, df_head, df_ci, df_summary, df_distinct)\n",
    "\n",
    "## Plot the summarized results using Pandas\n",
    "fig, (ax1, ax2) = plt.subplots(ncols = 2, figsize =  (18,6))\n",
    "\n",
    "## ax1\n",
    "(df_distinct\n",
    " .sort_values('NDistinct', ascending = False)\n",
    " .plot(kind = 'bar', x = 'Column', y = 'NDistinct', \n",
    "       ax = ax1, \n",
    "       title = 'Number of Distinct Values in Each Column (10,000 value limit)'))\n",
    "\n",
    "## ax2\n",
    "(df_distinct\n",
    " .sort_values('NMiss', ascending = False)\n",
    " .plot(kind = 'bar', x = 'Column', y = 'NMiss', \n",
    "       ax = ax2, \n",
    "       title = 'Number of Missing Values in Each Column'));"
   ]
  },
  {
   "cell_type": "markdown",
   "metadata": {},
   "source": [
    "### 6. Analyze a Table"
   ]
  },
  {
   "cell_type": "markdown",
   "metadata": {},
   "source": [
    "a. Determine the percentage of loans by each loan **Category**."
   ]
  },
  {
   "cell_type": "code",
   "execution_count": null,
   "metadata": {},
   "outputs": [],
   "source": [
    "## Calculate the frequency of Category in SAS Viya\n",
    "df = (tbl\n",
    "      .Category\n",
    "      .value_counts(normalize = True))\n",
    "display(df)\n",
    "\n",
    "## Plot the summarized results on the client using Pandas\n",
    "df.plot(kind = 'bar', \n",
    "        figsize = (10,6), \n",
    "        title = 'Percent of Loans by Category');"
   ]
  },
  {
   "cell_type": "markdown",
   "metadata": {},
   "source": [
    "b. View the total amount of mortgage loans by **Year**."
   ]
  },
  {
   "cell_type": "code",
   "execution_count": null,
   "metadata": {},
   "outputs": [],
   "source": [
    "df = (tbl\n",
    "      .query('Category = \"Mortgage\"') \n",
    "      .groupby('Year') \n",
    "      .Amount\n",
    "      .sum())\n",
    "\n",
    "display(df)\n",
    "\n",
    "df.plot(kind = 'line', \n",
    "        figsize = (10,6), \n",
    "        title = 'Total Amount of New Mortgage Loans by Year');"
   ]
  },
  {
   "cell_type": "markdown",
   "metadata": {},
   "source": [
    "### 7. Create a New Table in SAS Viya\n",
    "Create a new table with only rows where **Category** equals *Credit Card*. Create a new column named **AccOpenDate** that creates a single column with the date on which the credit card was opened. The new table will keep only the specified columns."
   ]
  },
  {
   "cell_type": "code",
   "execution_count": null,
   "metadata": {},
   "outputs": [],
   "source": [
    "## Add parameters to the input table\n",
    "tbl.where = 'Category = \"Credit Card\"'\n",
    "tbl.computedVars = [dict(name = 'AccOpenDate', format = 'mmddyy10.')]\n",
    "tbl.computedVarsProgram = 'AccOpenDate = mdy(Month, Day, Year)'\n",
    "tbl.vars = ['ID', 'AccNumber', 'LoanGrade', 'AccOpenDate', 'Salary', 'Category', 'Amount', 'InterestRate', 'Cancelled', 'CancelledReason', 'LastPurchase', 'Promotion']\n",
    "\n",
    "## Specify output table information\n",
    "newTbl = dict(name = 'CreditCards', \n",
    "              caslib = 'casuser', \n",
    "              replace = True)\n",
    "\n",
    "## Create a new table in SAS Viya\n",
    "ct = tbl.copyTable(casOut = newTbl)\n",
    "display(ct)\n",
    "\n",
    "## View available in-memory tables\n",
    "ti = conn.tableInfo(caslib = 'casuser')\n",
    "display(ti)\n",
    "\n",
    "## Preview the newly created table\n",
    "ccTbl = conn.CASTable('creditcards', caslib = 'casuser')\n",
    "ccTbl.head()"
   ]
  },
  {
   "cell_type": "markdown",
   "metadata": {},
   "source": [
    "### 8. Terminate Connection to SAS Viya"
   ]
  },
  {
   "cell_type": "code",
   "execution_count": null,
   "metadata": {},
   "outputs": [],
   "source": [
    "conn.terminate()"
   ]
  },
  {
   "cell_type": "markdown",
   "metadata": {},
   "source": [
    " "
   ]
  }
 ],
 "metadata": {
  "kernelspec": {
   "display_name": "Python 3 (ipykernel)",
   "language": "python",
   "name": "python3"
  },
  "language_info": {
   "codemirror_mode": {
    "name": "ipython",
    "version": 3
   },
   "file_extension": ".py",
   "mimetype": "text/x-python",
   "name": "python",
   "nbconvert_exporter": "python",
   "pygments_lexer": "ipython3",
   "version": "3.8.12"
  }
 },
 "nbformat": 4,
 "nbformat_minor": 4
}
