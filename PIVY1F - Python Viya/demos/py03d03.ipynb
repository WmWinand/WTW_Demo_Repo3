{
 "cells": [
  {
   "cell_type": "markdown",
   "metadata": {},
   "source": [
    "# Demo: Analyzing Categorical Columns"
   ]
  },
  {
   "cell_type": "markdown",
   "metadata": {},
   "source": [
    "### 1. Import Packages and Connect to the CAS Server\n",
    "\n",
    "Visit the documentation for the SWAT [(SAS Scripting Wrapper for Analytics Transfer)](https://sassoftware.github.io/python-swat/index.html) package."
   ]
  },
  {
   "cell_type": "code",
   "execution_count": null,
   "metadata": {},
   "outputs": [],
   "source": [
    "## Import packages\n",
    "import swat\n",
    "import pandas as pd\n",
    "import matplotlib.pyplot as plt\n",
    "plt.style.use('seaborn')\n",
    "\n",
    "## Set options\n",
    "pd.set_option('display.max_columns', None)\n",
    "\n",
    "## Connect to CAS\n",
    "conn = swat.CAS('server.demo.sas.com', 30571, 'student', 'Metadata0', name = 'py03d03')\n",
    "\n",
    "## Function to load the loans_raw.sashdat file into memory if necessary\n",
    "def loadLoans():\n",
    "    conn.loadTable(path ='loans_raw.sashdat', caslib = 'PIVY',\n",
    "                   casOut = {'name' : 'loans_raw',\n",
    "                            'caslib' : 'casuser',\n",
    "                            'promote' : True})"
   ]
  },
  {
   "cell_type": "markdown",
   "metadata": {},
   "source": [
    "### 2. Explore Available CAS Tables\n",
    "\n",
    "a. Use the tableInfo action to view all available in-memory tables in the **Casuser** caslib. If the **LOANS_RAW** CAS table is not available, uncomment the loadLoans function and execute the cell."
   ]
  },
  {
   "cell_type": "code",
   "execution_count": null,
   "metadata": {},
   "outputs": [],
   "source": [
    "#loadLoans()\n",
    "conn.tableInfo(caslib = 'casuser')"
   ]
  },
  {
   "cell_type": "markdown",
   "metadata": {},
   "source": [
    "b. Reference the **LOANS_RAW** CAS table using the CASTable method, and preview the table using the head method."
   ]
  },
  {
   "cell_type": "code",
   "execution_count": null,
   "metadata": {},
   "outputs": [],
   "source": [
    "tbl = conn.CASTable('loans_raw', caslib = 'casuser')\n",
    "tbl.head()"
   ]
  },
  {
   "cell_type": "markdown",
   "metadata": {},
   "source": [
    "### 3. Frequency Distribution Using the value_counts Method"
   ]
  },
  {
   "cell_type": "markdown",
   "metadata": {},
   "source": [
    "a. Use the value_counts method on the **Category** column to view frequency values of each category, and store the results in the variable **vc_df**. In the value_counts method, use the normalize equals *True* option. Display the **vc_df** object type and value of the object. The CAS server summarizes the data and returns a **Series** to the client."
   ]
  },
  {
   "cell_type": "code",
   "execution_count": null,
   "metadata": {},
   "outputs": [],
   "source": [
    "vc_df = (tbl\n",
    "         .Category\n",
    "         .value_counts(normalize = True))\n",
    "\n",
    "## Display the object type and view the results\n",
    "display(type(vc_df), vc_df)"
   ]
  },
  {
   "cell_type": "markdown",
   "metadata": {},
   "source": [
    "b. With a **Series** object returned from CAS to the client, you can use the traditional Pandas plot method to visualize the summarized results."
   ]
  },
  {
   "cell_type": "code",
   "execution_count": null,
   "metadata": {},
   "outputs": [],
   "source": [
    "vc_df.plot(kind = 'bar', figsize = (8,6), title = 'Percentage of Loans by Category');"
   ]
  },
  {
   "cell_type": "markdown",
   "metadata": {},
   "source": [
    "### 4. Frequency Distribution Using the freq Action"
   ]
  },
  {
   "cell_type": "markdown",
   "metadata": {},
   "source": [
    "a. You can use the [simple.freq](https://documentation.sas.com/doc/en/pgmsascdc/v_018/casanpg/cas-simple-freq.htm) action to obtain the frequency distribution of multiple columns. The freq action returns a **CASResults** object with a single **SASDataFrame**. Here, the **Category** and **LoanGrade** columns are specified in the inputs parameter."
   ]
  },
  {
   "cell_type": "code",
   "execution_count": null,
   "metadata": {},
   "outputs": [],
   "source": [
    "freq_results = tbl.freq(inputs = ['Category','LoanGrade'])\n",
    "freq_results"
   ]
  },
  {
   "cell_type": "markdown",
   "metadata": {},
   "source": [
    "b. With a **CASResult** object on the client, you can reference the *Frequency* key to store the **SASDataFrame** in a variable named **freq_df**. Then confirm the type and value of the **freq_df** variable. Notice that it's a **SASDataFrame** with the frequency values for both the **Category** and **LoanGrade** columns."
   ]
  },
  {
   "cell_type": "code",
   "execution_count": null,
   "metadata": {},
   "outputs": [],
   "source": [
    "freq_df = freq_results['Frequency']\n",
    "\n",
    "## Display the object type and view the results\n",
    "display(type(freq_df), freq_df)"
   ]
  },
  {
   "cell_type": "markdown",
   "metadata": {},
   "source": [
    "c. Once you have the **SASDataFrame** on the client, you can use the Pandas package to visualize the summarized results. Here, create two new **DataFrames** for each unique input column. Then visualize each **DataFrame**. All code below is Pandas code, and it's processed on the client because you are working with a **SASDataFrame**."
   ]
  },
  {
   "cell_type": "code",
   "execution_count": null,
   "metadata": {},
   "outputs": [],
   "source": [
    "## DataFrame of the Category rows\n",
    "categorydf = (freq_df\n",
    "              .query('Column == \"Category\"')\n",
    "              .sort_values('Frequency', ascending = False))\n",
    "\n",
    "## DataFrame of the LoanGrade rows\n",
    "loanGradedf = (freq_df\n",
    "               .query('Column == \"LoanGrade\"')\n",
    "               .sort_values('Frequency', ascending = False))\n",
    "\n",
    "## Display the DataFrames\n",
    "display(categorydf, loanGradedf)\n",
    "\n",
    "\n",
    "##\n",
    "## Plot the SASDataFrames\n",
    "##\n",
    "fig, (ax1, ax2) = plt.subplots(ncols = 2, figsize = (16,6))\n",
    "\n",
    "## ax1\n",
    "categorydf.plot(kind = 'bar', x = 'CharVar', y = 'Frequency', \n",
    "                ax = ax1, title = \"Frequency of Category\", xlabel = '')\n",
    "\n",
    "## ax2\n",
    "loanGradedf.plot(kind = 'bar', x = 'CharVar', y = 'Frequency', \n",
    "                 ax = ax2, title = \"Frequency of Loan Grade\",  xlabel = '');"
   ]
  },
  {
   "cell_type": "markdown",
   "metadata": {},
   "source": [
    "d. You can also create a calculated column for ad hoc analysis in an action or method by adding the computedVarsProgram parameter to the **CASTable** object. Here, a new column is created named **InterestCat**. It uses the SAS IFC function to create a new column based on conditions. If the current value of **InterestRate** is *0*, then there was *No Interest*. Otherwise, the value is *Interest*. Then use the **tbl** object with the freq action. Specify the inputs parameter with the new **InterestCat** column."
   ]
  },
  {
   "cell_type": "code",
   "execution_count": null,
   "metadata": {},
   "outputs": [],
   "source": [
    "## Create a new column\n",
    "tbl.computedVarsProgram = \"InterestCat = ifc(InterestRate = 0, 'No Interest', 'Interest');\"\n",
    "display(tbl)\n",
    "\n",
    "## Analyze the new column\n",
    "cr_freq = tbl.freq(inputs='InterestCat')\n",
    "display(cr_freq)\n",
    "\n",
    "## Delete the computedVarsProgram parameter\n",
    "del tbl.computedVarsProgram\n",
    "display(tbl)"
   ]
  },
  {
   "cell_type": "markdown",
   "metadata": {},
   "source": [
    "### 5. Frequency Distribution Using the freqTab Action"
   ]
  },
  {
   "cell_type": "markdown",
   "metadata": {},
   "source": [
    "a. The [freqTab.freqTab](https://go.documentation.sas.com/doc/en/pgmsascdc/v_017/casactstat/cas-freqtab-TblOfActions.htm?homeOnFail) action provides much more functionality than the freq action. To use the freqTab action set, you first need to load the freqTab action set using the [builtins.loadActionSet](https://go.documentation.sas.com/doc/en/pgmsascdc/v_017/caspg/cas-builtins-loadactionset.htm) action."
   ]
  },
  {
   "cell_type": "code",
   "execution_count": null,
   "metadata": {},
   "outputs": [],
   "source": [
    "conn.loadActionSet('freqtab')"
   ]
  },
  {
   "cell_type": "markdown",
   "metadata": {},
   "source": [
    "b. Use the freqTab action to create a simple one-way frequency table similar to the freq action. Begin by creating a frequency table of the **Category** column by using the tabulate parameter. Notice that the results of the freqTab action return a variety of information such as the level information, number of observations, the one-way frequency table, and timing."
   ]
  },
  {
   "cell_type": "code",
   "execution_count": null,
   "metadata": {},
   "outputs": [],
   "source": [
    "ft_cr = tbl.freqTab(tabulate = 'Category')\n",
    "ft_cr"
   ]
  },
  {
   "cell_type": "markdown",
   "metadata": {},
   "source": [
    "c. View the keys of the **CASResults** object using the keys method. You see that four keys exist in the **CASResults** object."
   ]
  },
  {
   "cell_type": "code",
   "execution_count": null,
   "metadata": {},
   "outputs": [],
   "source": [
    "ft_cr.keys()"
   ]
  },
  {
   "cell_type": "markdown",
   "metadata": {},
   "source": [
    "d. To visualize the one-way frequency table, call the *Table1.OneWayFreqs* key to return the **SASDataFrame**. Then use Pandas to sort and plot the **SASDataFrame**."
   ]
  },
  {
   "cell_type": "code",
   "execution_count": null,
   "metadata": {},
   "outputs": [],
   "source": [
    "## Store the SASDataFrame from the CASResults objects\n",
    "freq_df = ft_cr['Table1.OneWayFreqs']\n",
    "\n",
    "## Process the SASDataFrame using Pandas\n",
    "(freq_df\n",
    " .sort_values('Percent', ascending = False)\n",
    " .plot(kind='bar', x = 'Category', y = 'Percent', figsize = (8,6)));"
   ]
  },
  {
   "cell_type": "markdown",
   "metadata": {},
   "source": [
    "e. The freqTab action enables you to create as many frequency and crosstabulation tables as you would like within a single action by specifying a list in the tabulate parameter. Here, the freqTab action creates a one-way frequency table for **Category** and **LoanGrade**, and a crosstabulation of **Category** and **LoanGrade**. Store the results in the **ft** variable and display the results.\n",
    "\n",
    "**Note**: To create crosstabulation, tables you specify a list with a dictionary within the tabulate parameter. Use the key *vars*, followed by a list of columns to use for the crosstabulation table."
   ]
  },
  {
   "cell_type": "code",
   "execution_count": null,
   "metadata": {},
   "outputs": [],
   "source": [
    "ft = tbl.freqTab(tabulate = [\n",
    "                   'Category',\n",
    "                   'LoanGrade',\n",
    "                   {'vars' : ['Category','LoanGrade']},\n",
    "                ])\n",
    "\n",
    "display(ft)"
   ]
  },
  {
   "cell_type": "markdown",
   "metadata": {},
   "source": [
    "f. To view the first 15 rows of the crosstabulation, call the *Table3.CrossList* key from the **CASResults** object to store the **SASDataFrame**. Then execute the head method."
   ]
  },
  {
   "cell_type": "code",
   "execution_count": null,
   "metadata": {},
   "outputs": [],
   "source": [
    "ft['Table3.CrossList'].head(15)"
   ]
  },
  {
   "cell_type": "markdown",
   "metadata": {},
   "source": [
    "### 6. Creating Crosstabs Using the crossTab Action"
   ]
  },
  {
   "cell_type": "markdown",
   "metadata": {},
   "source": [
    "a. The [simple.crossTab](https://go.documentation.sas.com/doc/en/pgmsascdc/v_017/casanpg/cas-simple-crosstab.htm) action performs a one-way or two-way tabulation. Here, the crossTab action creates a two-way tabulation between **Category** and **LoanGrade**. Use the row parameter to specify the row, and the col parameter to specify the column. Store the **SASDataFrame** from the result of the crossTab action in the variable **cross_df** and view the results. Notice that the results of the crossTab action do not name the columns by default."
   ]
  },
  {
   "cell_type": "code",
   "execution_count": null,
   "metadata": {},
   "outputs": [],
   "source": [
    "cross_df = tbl.crosstab(row = 'Category', col = 'LoanGrade')['Crosstab']\n",
    "cross_df"
   ]
  },
  {
   "cell_type": "markdown",
   "metadata": {},
   "source": [
    "b. A **SASDataFrame** contains a variety of additional attributes and methods. One useful attribute is the colInfo attribute. It enables you to view column information of the **SASDataFrame** like the column name, labels and data type. When you execute the colInfo attribute, notice that the *label* key of each column contains the **LoanGrade** value. You can use this information to rename the default column names of the crossTab action."
   ]
  },
  {
   "cell_type": "code",
   "execution_count": null,
   "metadata": {},
   "outputs": [],
   "source": [
    "## View the SASDataFrame column attributes. This is an additional attribute available with SASDataFrames\n",
    "cross_df.colinfo"
   ]
  },
  {
   "cell_type": "markdown",
   "metadata": {},
   "source": [
    "c. You can use the apply_labels method with the inplace equals *True* parameter to apply the column labels as the column names. Execute the cell and notice that the column names have changed."
   ]
  },
  {
   "cell_type": "code",
   "execution_count": null,
   "metadata": {},
   "outputs": [],
   "source": [
    "## Apply the labels of the SASDataFrame as the column names\n",
    "cross_df.apply_labels(inplace = True)\n",
    "cross_df"
   ]
  },
  {
   "cell_type": "markdown",
   "metadata": {},
   "source": [
    "d. In the crossTab action, you can add the aggregator and weight parameters to summarize the data. Here, the mean **InterestRate** is calculated for each **Category** by **LoanGrade**. Then rename the default columns using the apply_labels method."
   ]
  },
  {
   "cell_type": "code",
   "execution_count": null,
   "metadata": {},
   "outputs": [],
   "source": [
    "## Summarize the data in CAS\n",
    "cross_df = tbl.crosstab(row = 'Category', \n",
    "                        col = 'LoanGrade', \n",
    "                        aggregator = 'MEAN', \n",
    "                        weight = 'InterestRate')['Crosstab']\n",
    "\n",
    "\n",
    "## Rename the columns with the labels\n",
    "cross_df.apply_labels(inplace = True)\n",
    "cross_df"
   ]
  },
  {
   "cell_type": "markdown",
   "metadata": {},
   "source": [
    "### 7. Terminate the CAS Session"
   ]
  },
  {
   "cell_type": "markdown",
   "metadata": {},
   "source": [
    "It's best practice to always terminate the CAS session when you are done."
   ]
  },
  {
   "cell_type": "code",
   "execution_count": null,
   "metadata": {},
   "outputs": [],
   "source": [
    "conn.terminate()"
   ]
  },
  {
   "cell_type": "markdown",
   "metadata": {},
   "source": [
    " "
   ]
  }
 ],
 "metadata": {
  "kernelspec": {
   "display_name": "Python 3 (ipykernel)",
   "language": "python",
   "name": "python3"
  },
  "language_info": {
   "codemirror_mode": {
    "name": "ipython",
    "version": 3
   },
   "file_extension": ".py",
   "mimetype": "text/x-python",
   "name": "python",
   "nbconvert_exporter": "python",
   "pygments_lexer": "ipython3",
   "version": "3.8.12"
  }
 },
 "nbformat": 4,
 "nbformat_minor": 4
}
