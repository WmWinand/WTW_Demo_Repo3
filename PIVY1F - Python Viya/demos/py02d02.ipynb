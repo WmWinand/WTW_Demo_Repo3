{
 "cells": [
  {
   "cell_type": "markdown",
   "metadata": {},
   "source": [
    "# Demo: Loading Server-Side Files into Memory"
   ]
  },
  {
   "cell_type": "markdown",
   "metadata": {},
   "source": [
    "### 1. Import Packages and Connect to the CAS Server\n",
    "Visit the documentation for the SWAT [(SAS Scripting Wrapper for Analytics Transfer)](https://sassoftware.github.io/python-swat/index.html) package."
   ]
  },
  {
   "cell_type": "code",
   "execution_count": null,
   "metadata": {},
   "outputs": [],
   "source": [
    "## Import packages\n",
    "import swat\n",
    "import pandas as pd\n",
    "import matplotlib.pyplot as plt\n",
    "plt.style.use('seaborn')\n",
    "\n",
    "## Set options\n",
    "pd.set_option('display.max_columns', None)\n",
    "\n",
    "## Connect to CAS\n",
    "conn = swat.CAS('server.demo.sas.com', 30571, 'student', 'Metadata0', name = 'py02d02')"
   ]
  },
  {
   "cell_type": "markdown",
   "metadata": {},
   "source": [
    "### 2. Explore Available Caslibs and Files\n",
    "\n",
    "\n",
    "a. Use the caslibInfo action to display a list of available caslibs."
   ]
  },
  {
   "cell_type": "code",
   "execution_count": null,
   "metadata": {},
   "outputs": [],
   "source": [
    "conn.caslibInfo()"
   ]
  },
  {
   "cell_type": "markdown",
   "metadata": {},
   "source": [
    "b. Use the tableInfo action to display available CAS tables in the **Casuser** caslib."
   ]
  },
  {
   "cell_type": "code",
   "execution_count": null,
   "metadata": {},
   "outputs": [],
   "source": [
    "conn.tableInfo(caslib = 'casuser')"
   ]
  },
  {
   "cell_type": "markdown",
   "metadata": {},
   "source": [
    "c. Use the fileInfo action to display available files in the **PIVY** caslib. "
   ]
  },
  {
   "cell_type": "code",
   "execution_count": null,
   "metadata": {},
   "outputs": [],
   "source": [
    "conn.fileInfo(caslib = 'PIVY')"
   ]
  },
  {
   "cell_type": "markdown",
   "metadata": {},
   "source": [
    "### 3. Loading Server-Side Files into Memory"
   ]
  },
  {
   "cell_type": "markdown",
   "metadata": {},
   "source": [
    "#### Loading the cars.sas7bdat File into Memory"
   ]
  },
  {
   "cell_type": "markdown",
   "metadata": {},
   "source": [
    "a. Use the [table.loadTable](https://go.documentation.sas.com/doc/en/pgmsascdc/v_017/caspg/cas-table-loadtable.htm) action to load the **cars.sas7bdat** file into memory from the **Casuser** caslib. The path parameter specifies the **cars.sas7bdat** data source file to load, and the caslib parameter specifies the input **Casuser** caslib. \n",
    "\n",
    "The casOut parameter specifies the output table information. Inside the casOut parameter, \n",
    "- the name sub-parameter names the new CAS table **CARS_SAS7BDAT**, \n",
    "- the caslib sub-parameter specifies the **Casuser** caslib as the output caslib, \n",
    "- the replace sub-parameter overwrites the CAS table if it already exists. \n",
    "\n",
    "**Note:** The action returns a **CASResults** object (dictionary) of information to the client about the load into memory."
   ]
  },
  {
   "cell_type": "code",
   "execution_count": null,
   "metadata": {},
   "outputs": [],
   "source": [
    "conn.loadTable(path = 'cars.sas7bdat', caslib = 'PIVY',\n",
    "               casOut={'name' : 'cars_sas7bdat', \n",
    "                       'caslib' : 'casuser', \n",
    "                       'replace' : True})"
   ]
  },
  {
   "cell_type": "markdown",
   "metadata": {},
   "source": [
    "b. Use the tableInfo action to view the available CAS tables. Notice the **CARS_SAS7BDAT** table is now available."
   ]
  },
  {
   "cell_type": "code",
   "execution_count": null,
   "metadata": {},
   "outputs": [],
   "source": [
    "conn.tableInfo(caslib = 'casuser')"
   ]
  },
  {
   "cell_type": "markdown",
   "metadata": {},
   "source": [
    "c. After the table is loaded into memory, you can reference the CAS table **CARS_SAS7BDAT** in the variable **cars** using the CASTable method. Then use the head method on the **cars** variable to preview the table."
   ]
  },
  {
   "cell_type": "code",
   "execution_count": null,
   "metadata": {},
   "outputs": [],
   "source": [
    "cars = conn.CASTable('cars_sas7bdat', caslib = 'casuser')\n",
    "cars.head()"
   ]
  },
  {
   "cell_type": "markdown",
   "metadata": {},
   "source": [
    "d. In the loadTable action add, the where and vars parameters to subset the original data source file when loading it into memory. The where parameter specifies all rows where **Origin** equals *Europe*, and the vars parameter specifies only the columns **Make**, **Model**, **Origin**, and **MSRP**. Then the casOut parameter is used to specify output CAS table information. Then use the tableInfo action to view the available in-memory tables. Execute the cell. Notice that the new  **CARS_SUBSET** CAS table contains 123 rows and 4 columns."
   ]
  },
  {
   "cell_type": "code",
   "execution_count": null,
   "metadata": {},
   "outputs": [],
   "source": [
    "conn.loadTable(path = 'cars.sas7bdat', caslib = 'PIVY',\n",
    "               where = 'Origin = \"Europe\"',\n",
    "               vars = ['Make','Model','Origin','MSRP'],\n",
    "               casOut = {'name' : 'cars_subset', \n",
    "                         'caslib' : 'casuser', \n",
    "                         'replace' : True})\n",
    "\n",
    "conn.tableInfo(caslib = 'casuser')"
   ]
  },
  {
   "cell_type": "markdown",
   "metadata": {},
   "source": [
    "#### Loading the customers_raw.csv File into Memory"
   ]
  },
  {
   "cell_type": "markdown",
   "metadata": {},
   "source": [
    "a. Execute the fileInfo action to view available data source files. Notice that the **customers_raw.csv** file exists in the **PIVY** caslib."
   ]
  },
  {
   "cell_type": "code",
   "execution_count": null,
   "metadata": {},
   "outputs": [],
   "source": [
    "conn.fileInfo(caslib = 'PIVY')"
   ]
  },
  {
   "cell_type": "markdown",
   "metadata": {},
   "source": [
    "b. The loadTable action can be used to load all types of data source files into memory. Here, the loadTable action loads the **customers_raw.csv** file into memory and names the new CAS table **CUSTOMERS_RAW**."
   ]
  },
  {
   "cell_type": "code",
   "execution_count": null,
   "metadata": {},
   "outputs": [],
   "source": [
    "conn.loadTable(path = 'customers_raw.csv', caslib = 'PIVY',\n",
    "               casOut = {'name' : 'customers_raw', \n",
    "                         'caslib' : 'casuser', \n",
    "                         'replace' : True})"
   ]
  },
  {
   "cell_type": "markdown",
   "metadata": {},
   "source": [
    "c. Use the tableInfo action to view the available CAS tables. Notice that the **CUSTOMERS_RAW** table is now available."
   ]
  },
  {
   "cell_type": "code",
   "execution_count": null,
   "metadata": {},
   "outputs": [],
   "source": [
    "conn.tableInfo(caslib = 'casuser')"
   ]
  },
  {
   "cell_type": "markdown",
   "metadata": {},
   "source": [
    "d. After the table is loaded into memory, you can reference the **CUSTOMERS_RAW** CAS table and begin to process the data. First, the CASTable method references the CAS table in the variable **customers**. Then, the SWAT [query](https://sassoftware.github.io/python-swat/generated/swat.cas.table.CASTable.query.html#swat.cas.table.CASTable.query) method is used to subset the **CUSTOMERS_RAW**  table where the **Country** value is *CA*, and then the head method is used to return five rows to the client."
   ]
  },
  {
   "cell_type": "code",
   "execution_count": null,
   "metadata": {},
   "outputs": [],
   "source": [
    "customers = conn.CASTable('CUSTOMERS_RAW', caslib = 'casuser')\n",
    "\n",
    "(customers\n",
    " .query('Country = \"CA\"')\n",
    " .head())"
   ]
  },
  {
   "cell_type": "markdown",
   "metadata": {},
   "source": [
    "e. For additional import options, you can use the [importOptions](https://go.documentation.sas.com/doc/en/pgmsascdc/v_017/caspg/compg-importoptions-114param.htm) parameter. In the importOptions parameter, you specify the fileType sub-parameter with the file type that you want to import. The fileType value specifies the settings available for reading a table from a data source.Here, fileType specifies a CSV file, then the vars sub-parameter is used to name the columns using the **colNames** variable, and the guessRows equals 100 sub-parameter to scans the first 100 rows of each column to determine the columns data type."
   ]
  },
  {
   "cell_type": "code",
   "execution_count": null,
   "metadata": {},
   "outputs": [],
   "source": [
    "## Specify a list of column names\n",
    "colNames = ['CustID_rename', 'CustAge_rename', 'CustSalary_rename', 'CustEmpLength', 'Date', 'Email', 'Address',\n",
    "            'Country', 'LoanCreditCard', 'LoanConsolidation', 'LoanMortgage',\n",
    "            'LoanHomeImprovement', 'LoanCarLoan', 'LoanPersonal',\n",
    "            'LoanMovingExpenses', 'LoanSmallBusiness', 'LoanVacation',\n",
    "            'LoanMedical', 'LoanMajorPurchase', 'LoanWeddings', 'LoanEducation',\n",
    "            'SavingsAcct', 'CheckingAcct']\n",
    "\n",
    "## Load the CSV file using the importOptions parameter to modify column names\n",
    "conn.loadTable(path = 'customers_raw.csv', caslib = 'PIVY',\n",
    "               casOut = {'name' : 'customers_raw_fileType', \n",
    "                         'caslib' : 'casuser', \n",
    "                         'replace' : True},\n",
    "               importOptions = {'fileType' : 'CSV', \n",
    "                                'vars' : colNames,\n",
    "                                'guessRows' : 100})\n",
    "\n",
    "\n",
    "## View available CAS table\n",
    "conn.tableInfo(caslib = 'casuser')"
   ]
  },
  {
   "cell_type": "markdown",
   "metadata": {},
   "source": [
    "f. Reference the new **CUSTOMERS_RAW_FILETYPE** CAS table in the variable **c**. Then view the newly renamed column names by executing the head method on the CAS table to retrieve five rows to the client, and then the loc method on the **SASDataFrame** to specify the columns."
   ]
  },
  {
   "cell_type": "code",
   "execution_count": null,
   "metadata": {},
   "outputs": [],
   "source": [
    "c = conn.CASTable('customers_raw_fileType', caslib = 'casuser');\n",
    "\n",
    "(c\n",
    " .head()\n",
    " .loc[:, ['CustID_rename', 'CustAge_rename', 'CustSalary_rename']])"
   ]
  },
  {
   "cell_type": "markdown",
   "metadata": {},
   "source": [
    "### 4. Use the load_path Method"
   ]
  },
  {
   "cell_type": "markdown",
   "metadata": {},
   "source": [
    "a. You can also use the [load_path](https://sassoftware.github.io/python-swat/generated/swat.cas.connection.CAS.load_path.html#swat.CAS.load_path) method to load server-side files into memory. This is a convenience  method. It executes the loadTable action and references the CAS table in one step. Here, the load_path method loads the **customers_raw.csv** file into memory and then references the CAS table in the variable **CUSTOMERS2**. Once the table is referenced you can execute the fetch action to return ten rows to the client.\n",
    "\n",
    "**Note:** In comparison, the loadTable action returns a **CASResults** object to the client with information about the loaded table. You then have to reference the table manually."
   ]
  },
  {
   "cell_type": "code",
   "execution_count": null,
   "metadata": {},
   "outputs": [],
   "source": [
    "customers2 = conn.load_path(path = 'customers_raw.csv', caslib = 'PIVY',\n",
    "                            casOut = {'name' : 'customers_raw_load_path', \n",
    "                                      'caslib' : 'casuser', \n",
    "                                      'replace' : True},\n",
    "                            importOptions = {'fileType' : 'CSV', \n",
    "                                             'guessRows' : 100},\n",
    "                            where = 'Age < 20',\n",
    "                            vars = ['ID','Age','Salary'])\n",
    "\n",
    "customers2.fetch(to = 10)"
   ]
  },
  {
   "cell_type": "markdown",
   "metadata": {},
   "source": [
    "### 5. Terminate the CAS Session"
   ]
  },
  {
   "cell_type": "markdown",
   "metadata": {},
   "source": [
    "It's best practice to always terminate the CAS session when you are done."
   ]
  },
  {
   "cell_type": "code",
   "execution_count": null,
   "metadata": {},
   "outputs": [],
   "source": [
    "conn.terminate()"
   ]
  },
  {
   "cell_type": "markdown",
   "metadata": {},
   "source": [
    " "
   ]
  }
 ],
 "metadata": {
  "kernelspec": {
   "display_name": "Python 3 (ipykernel)",
   "language": "python",
   "name": "python3"
  },
  "language_info": {
   "codemirror_mode": {
    "name": "ipython",
    "version": 3
   },
   "file_extension": ".py",
   "mimetype": "text/x-python",
   "name": "python",
   "nbconvert_exporter": "python",
   "pygments_lexer": "ipython3",
   "version": "3.8.12"
  }
 },
 "nbformat": 4,
 "nbformat_minor": 4
}
