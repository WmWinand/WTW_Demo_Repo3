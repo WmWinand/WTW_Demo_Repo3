{
 "cells": [
  {
   "cell_type": "markdown",
   "metadata": {},
   "source": [
    "# Demo: Creating CAS Tables with the copyTable Action\n",
    "**Note:** The [table.copyTable](https://go.documentation.sas.com/doc/en/pgmsascdc/v_006/caspg/cas-table-copytable.htm?homeOnFail) action was introduced in SAS Viya 2020.1. For previous releases, the [table.partition](https://go.documentation.sas.com/doc/en/pgmsascdc/9.4_3.5/caspg/cas-table-partition.htm) action is required."
   ]
  },
  {
   "cell_type": "markdown",
   "metadata": {},
   "source": [
    "### 1. Import Packages and Connect to the CAS Server\n",
    "\n",
    "Visit the documentation for the SWAT [(SAS Scripting Wrapper for Analytics Transfer)](https://sassoftware.github.io/python-swat/index.html) package."
   ]
  },
  {
   "cell_type": "code",
   "execution_count": null,
   "metadata": {},
   "outputs": [],
   "source": [
    "## Import packages\n",
    "import swat\n",
    "import pandas as pd\n",
    "import matplotlib.pyplot as plt\n",
    "\n",
    "## Set options\n",
    "pd.set_option('display.max_columns', None)\n",
    "\n",
    "## Connect to CAS\n",
    "conn = swat.CAS('server.demo.sas.com', 30571, 'student', 'Metadata0', name = 'py03d06')\n",
    "\n",
    "## Function to load the loans_raw.sashdat file into memory if necessary\n",
    "def loadLoans():\n",
    "    conn.loadTable(path = 'loans_raw.sashdat', caslib = 'PIVY',\n",
    "                   casOut = {'name' : 'loans_raw',\n",
    "                            'caslib' : 'casuser',\n",
    "                            'promote' : True})"
   ]
  },
  {
   "cell_type": "markdown",
   "metadata": {},
   "source": [
    "### 2. Explore Available CAS Tables and Data Source Files\n",
    "\n",
    "\n",
    "a. Use the tableInfo action to view all available in-memory tables in the **Casuser** caslib. If the **LOANS_RAW** CAS table is not available, uncomment the loadLoans function and execute the cell."
   ]
  },
  {
   "cell_type": "code",
   "execution_count": null,
   "metadata": {},
   "outputs": [],
   "source": [
    "#loadLoans()\n",
    "conn.tableInfo(caslib = 'casuser')"
   ]
  },
  {
   "cell_type": "markdown",
   "metadata": {},
   "source": [
    "b. Reference the **LOANS_RAW** CAS table."
   ]
  },
  {
   "cell_type": "code",
   "execution_count": null,
   "metadata": {},
   "outputs": [],
   "source": [
    "tbl = conn.CASTable('loans_raw', caslib = 'casuser')"
   ]
  },
  {
   "cell_type": "markdown",
   "metadata": {},
   "source": [
    "### 3. Quick Exploration"
   ]
  },
  {
   "cell_type": "markdown",
   "metadata": {},
   "source": [
    "a. Preview the **LOANS_RAW** table using the head method."
   ]
  },
  {
   "cell_type": "code",
   "execution_count": null,
   "metadata": {},
   "outputs": [],
   "source": [
    "tbl.head()"
   ]
  },
  {
   "cell_type": "markdown",
   "metadata": {},
   "source": [
    "b. Explore the **CancelledReason** column. Notice that truncated values exists. Take note to fix this during the data preparation stage."
   ]
  },
  {
   "cell_type": "code",
   "execution_count": null,
   "metadata": {},
   "outputs": [],
   "source": [
    "(tbl\n",
    " .CancelledReason\n",
    " .value_counts())"
   ]
  },
  {
   "cell_type": "markdown",
   "metadata": {},
   "source": [
    "### 4. Create a New CAS Table\n",
    "\n",
    "Create a new CAS table from the **LOANS_RAW** table that completes the following:\n",
    "- Select rows where **Category** is *Credit Card*\n",
    "- Create two new calculated columns:\n",
    "    - **CancelledReason_fix** - Fixes the truncation issues in the **CancelledReason** column.\n",
    "    - **OpenCCDate** - Create a credit card open date column by using the **Year**, **Month** and **Day** columns.\n",
    "- Keep the **AccNumber**, **Month**, **Day**, **Year**, **CCOpenDate**, **Amount**, **InterestRate**, **LoanGrade**, **LoanStatus**, **LastPurchase**, **Cancelled**, and **CancelledReason_fix** columns.\n",
    "- Name the new CAS table **CreditCard** and place it in the **Casuser** caslib."
   ]
  },
  {
   "cell_type": "markdown",
   "metadata": {},
   "source": [
    "a. Add the where parameter to subset the **LOANS_RAW** CAS table for only rows where **Category** equals *Credit Card*. View the new **CASTable** object to confirm that the where parameter was added."
   ]
  },
  {
   "cell_type": "code",
   "execution_count": null,
   "metadata": {},
   "outputs": [],
   "source": [
    "tbl.where = 'Category = \"Credit Card\"'\n",
    "tbl"
   ]
  },
  {
   "cell_type": "markdown",
   "metadata": {},
   "source": [
    "b. Create two new computed columns using the computedVarsProgram parameter. Instead of adding the entire string in the computedVarsProgram parameter, create two new string variables with the calculated column expressions. \n",
    "\n",
    "**Note**: The LENGTH statement is used to set a specific length of the CAS table column. If the LENGTH statement is omitted, SAS determines the length based on the first assignment statement."
   ]
  },
  {
   "cell_type": "code",
   "execution_count": null,
   "metadata": {},
   "outputs": [],
   "source": [
    "## Use a SAS IF-THEN/ELSE statement to fix the CancelledReason column. If you do not specify the length...\n",
    "fixCancelled = '''length CancelledReason_fix varchar(18);\n",
    "                   if CancelledReason = \"Better Altern\" then CancelledReason_fix = \"Better Alternative\";\n",
    "                     else if CancelledReason = \"No Longer Nee\" then CancelledReason_fix = \"No Longer Needed\";\n",
    "                     else CancelledReason_fix = CancelledReason;\n",
    "               '''\n",
    "\n",
    "## Use an assignment statement and the SAS MDY function to create a SAS date\n",
    "createCCOpenDate = \"CCOpenDate = mdy(Month,Day,Year);\"\n",
    "\n",
    "## Add the computed columns expressions to the computedVarsProgram parameter\n",
    "tbl.computedVarsProgram = fixCancelled + createCCOpenDate\n",
    "tbl"
   ]
  },
  {
   "cell_type": "markdown",
   "metadata": {},
   "source": [
    "c. Use the head method to preview the table and confirm that the CAS table is calculating the new columns. Use the value_counts method to confirm that the **CancelledReason_fix** column is correct."
   ]
  },
  {
   "cell_type": "code",
   "execution_count": null,
   "metadata": {},
   "outputs": [],
   "source": [
    "df = tbl.head()\n",
    "\n",
    "cancelled_df = (tbl\n",
    "                .CancelledReason_fix\n",
    "                .value_counts())\n",
    "\n",
    "display(df, cancelled_df)"
   ]
  },
  {
   "cell_type": "markdown",
   "metadata": {},
   "source": [
    "d. Add the required columns for the new table using the vars parameter. Then execute the head method on the **CASTable** object to preview the new table. Notice that the **CCOpenDate** column contains a numeric SAS date value. A format must be applied on the column to make the date human readable. That will be added later."
   ]
  },
  {
   "cell_type": "code",
   "execution_count": null,
   "metadata": {},
   "outputs": [],
   "source": [
    "## Keep the following columns\n",
    "tbl.vars = ['AccNumber', 'Month', 'Day', 'Year', 'CCOpenDate', 'Amount', 'InterestRate', \n",
    "            'LoanGrade', 'LoanStatus', 'LastPurchase', 'Cancelled', 'CancelledReason_fix']\n",
    "\n",
    "## Preview the table\n",
    "tbl.head(10)"
   ]
  },
  {
   "cell_type": "markdown",
   "metadata": {},
   "source": [
    "e. Specify a dictionary with the output information of the new CAS table in the variable **ccOutTbl**. Here, the new table is named **CreditCard**, it is placed in the **Casuser** caslib, it is replaced if it already exists, and a label is added to the table."
   ]
  },
  {
   "cell_type": "code",
   "execution_count": null,
   "metadata": {},
   "outputs": [],
   "source": [
    "ccOutTbl = dict(name = 'CreditCard', \n",
    "                caslib = 'casuser', \n",
    "                replace = True, \n",
    "                label = 'All credit card loan data cleaned')"
   ]
  },
  {
   "cell_type": "markdown",
   "metadata": {},
   "source": [
    "f. Execute the copyTable action on the input CAS table **tbl**, and then specify the casOut parameter with the dictionary **ccOutTbl** with the information for the output CAS table. The copyTable action returns a **CASResults** object with information about the newly created table."
   ]
  },
  {
   "cell_type": "code",
   "execution_count": null,
   "metadata": {},
   "outputs": [],
   "source": [
    "tbl.copyTable(casOut = ccOutTbl)"
   ]
  },
  {
   "cell_type": "markdown",
   "metadata": {},
   "source": [
    "g. Use the tableInfo action to check the **Casuser** caslib for the new table. Notice that the new table **CreditCard** has been created."
   ]
  },
  {
   "cell_type": "code",
   "execution_count": null,
   "metadata": {},
   "outputs": [],
   "source": [
    "conn.tableInfo(caslib = 'casuser')"
   ]
  },
  {
   "cell_type": "markdown",
   "metadata": {},
   "source": [
    "h. Reference and preview the new CAS table **creditcard**. "
   ]
  },
  {
   "cell_type": "code",
   "execution_count": null,
   "metadata": {},
   "outputs": [],
   "source": [
    "ccTbl = conn.CASTable('creditcard', caslib = 'casuser')\n",
    "ccTbl.head()"
   ]
  },
  {
   "cell_type": "markdown",
   "metadata": {},
   "source": [
    "### 5. Adding a SAS Date Format"
   ]
  },
  {
   "cell_type": "markdown",
   "metadata": {},
   "source": [
    "a. To add a SAS date format to the data value that we saw above, you can apply SAS format. There are multiple ways to add a format to a column. One way is to use the [table.alterTable](https://documentation.sas.com/doc/en/pgmsascdc/v_017/caspg/cas-table-altertable.htm?homeOnFail) action to apply a format to a column. Here the alterTable action is used to apply the SAS *mmddyy* format to the **CCOpenDate** column."
   ]
  },
  {
   "cell_type": "code",
   "execution_count": null,
   "metadata": {},
   "outputs": [],
   "source": [
    "conn.alterTable(name = 'creditcard', caslib = 'casuser',\n",
    "                columns = [\n",
    "                    {'name' : 'CCOpenDate', 'format' : 'mmddyy10.'}\n",
    "                ])\n",
    "\n",
    "## Preview the table with the format\n",
    "ccTbl.head()"
   ]
  },
  {
   "cell_type": "markdown",
   "metadata": {},
   "source": [
    "b. Use the columnInfo action to view the CAS table column information. Notice that the **CCOpenDate** column now contains a SAS date format."
   ]
  },
  {
   "cell_type": "code",
   "execution_count": null,
   "metadata": {},
   "outputs": [],
   "source": [
    "ccTbl.columnInfo()"
   ]
  },
  {
   "cell_type": "markdown",
   "metadata": {},
   "source": [
    "### 6. Terminate the CAS Session"
   ]
  },
  {
   "cell_type": "markdown",
   "metadata": {},
   "source": [
    "It's best practice to always terminate the CAS session when you are done."
   ]
  },
  {
   "cell_type": "code",
   "execution_count": null,
   "metadata": {},
   "outputs": [],
   "source": [
    "conn.terminate()"
   ]
  },
  {
   "cell_type": "markdown",
   "metadata": {},
   "source": [
    " "
   ]
  }
 ],
 "metadata": {
  "kernelspec": {
   "display_name": "Python 3 (ipykernel)",
   "language": "python",
   "name": "python3"
  },
  "language_info": {
   "codemirror_mode": {
    "name": "ipython",
    "version": 3
   },
   "file_extension": ".py",
   "mimetype": "text/x-python",
   "name": "python",
   "nbconvert_exporter": "python",
   "pygments_lexer": "ipython3",
   "version": "3.8.12"
  }
 },
 "nbformat": 4,
 "nbformat_minor": 4
}
