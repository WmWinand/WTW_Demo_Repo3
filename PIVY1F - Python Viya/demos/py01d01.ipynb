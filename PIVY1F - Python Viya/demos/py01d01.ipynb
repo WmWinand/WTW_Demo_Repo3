{
 "cells": [
  {
   "cell_type": "markdown",
   "metadata": {},
   "source": [
    "# Demo: Getting Started with the CAS Server"
   ]
  },
  {
   "cell_type": "markdown",
   "metadata": {},
   "source": [
    "### 1. Import Packages\n",
    "\n",
    "Visit the documentation for the SWAT [(SAS Scripting Wrapper for Analytics Transfer)](https://sassoftware.github.io/python-swat/index.html) package."
   ]
  },
  {
   "cell_type": "code",
   "execution_count": null,
   "metadata": {},
   "outputs": [],
   "source": [
    "import swat\n",
    "import pandas as pd"
   ]
  },
  {
   "cell_type": "markdown",
   "metadata": {
    "tags": []
   },
   "source": [
    "### 2. Connect to the CAS Server\n",
    "\n",
    "\n",
    "To connect to the CAS server, you need\n",
    "- the host name \n",
    "- the port number \n",
    "- authentication\n",
    "\n",
    "Visit the documentation [Getting Started with SAS® Viya® for Python](https://documentation.sas.com/doc/en/pgmsascdc/v_016/caspg3/titlepage.htm?homeOnFail) for more information about connecting to CAS.\n",
    "\n",
    "**Note**: Be aware that connecting to the CAS server can be implemented in various ways, so you might need to see your system administrator about how to make a connection. Please follow company policy regarding authentication. ***Never place your password in plain text. This course adds the password in plain text for training purposes only.***\n",
    "\n",
    "\n",
    "\n",
    "a. Make a connection to the CAS server and name the variable **conn**."
   ]
  },
  {
   "cell_type": "code",
   "execution_count": null,
   "metadata": {},
   "outputs": [],
   "source": [
    "conn = swat.CAS('server.demo.sas.com', 30571, 'student', 'Metadata0')"
   ]
  },
  {
   "cell_type": "markdown",
   "metadata": {},
   "source": [
    "b. Print the value of the **conn** variable. Notice that it contains connection information to the CAS server. A random session name and session ID is assigned."
   ]
  },
  {
   "cell_type": "code",
   "execution_count": null,
   "metadata": {},
   "outputs": [],
   "source": [
    "print(conn)"
   ]
  },
  {
   "cell_type": "markdown",
   "metadata": {},
   "source": [
    "c. Print the type of the **conn** variable. Notice that it's a **CAS** connection object."
   ]
  },
  {
   "cell_type": "code",
   "execution_count": null,
   "metadata": {},
   "outputs": [],
   "source": [
    "type(conn)"
   ]
  },
  {
   "cell_type": "markdown",
   "metadata": {},
   "source": [
    "### 3. Explore the CAS Session Using CAS Actions\n",
    "\n",
    "a. Use the [session.listSessions](https://go.documentation.sas.com/doc/en/pgmsascdc/v_016/caspg/cas-session-listsessions.htm?homeOnFail) action to display a list of CAS sessions."
   ]
  },
  {
   "cell_type": "code",
   "execution_count": null,
   "metadata": {},
   "outputs": [],
   "source": [
    "conn.session.listSessions()"
   ]
  },
  {
   "cell_type": "markdown",
   "metadata": {},
   "source": [
    "b. You can also specify the action without the action set. Here, the connection object **conn** is specified, followed by the CAS action listSesssions. Typically, throughout this course, only the action name is used. Execute the cell. Notice that the results are identical."
   ]
  },
  {
   "cell_type": "code",
   "execution_count": null,
   "metadata": {},
   "outputs": [],
   "source": [
    "conn.listSessions()"
   ]
  },
  {
   "cell_type": "markdown",
   "metadata": {},
   "source": [
    "c. Use the [sessionProp.listSessOpts](https://go.documentation.sas.com/doc/en/pgmsascdc/v_016/caspg/cas-sessionprop-listsessopts.htm) action to display the session options and session values."
   ]
  },
  {
   "cell_type": "code",
   "execution_count": null,
   "metadata": {},
   "outputs": [],
   "source": [
    "conn.listSessOpts()"
   ]
  },
  {
   "cell_type": "markdown",
   "metadata": {},
   "source": [
    "d. Modify CAS session options using the [sessionProp.setSessOpt](https://go.documentation.sas.com/doc/en/pgmsascdc/v_016/caspg/cas-sessionprop-setsessopt.htm) action with the name of the option to modify as a parameter. Here the **timeout** parameter is specified with a new value of *3600*. Then the listSessOpts action is executed to view the new value of the **timeout** option."
   ]
  },
  {
   "cell_type": "code",
   "execution_count": null,
   "metadata": {},
   "outputs": [],
   "source": [
    "conn.setSessOpt(timeout = 3600)\n",
    "conn.listSessOpts()"
   ]
  },
  {
   "cell_type": "markdown",
   "metadata": {},
   "source": [
    "e. Use the [builtins.actionSetInfo](https://go.documentation.sas.com/doc/en/pgmsascdc/v_016/caspg/cas-builtins-actionsetinfo.htm?homeOnFail) action to display all of the available action sets. By default, actionSetInfo shows all loaded action sets. \n",
    "\n",
    "**Note:** Think of an action set as a package, and actions within an action set as methods."
   ]
  },
  {
   "cell_type": "code",
   "execution_count": null,
   "metadata": {},
   "outputs": [],
   "source": [
    "conn.actionSetInfo()"
   ]
  },
  {
   "cell_type": "markdown",
   "metadata": {},
   "source": [
    "f. You can use the help function to see the available actions within an action set. Within the help function, the builtIns action set is specified. View all the actions available within the builtins action set."
   ]
  },
  {
   "cell_type": "code",
   "execution_count": null,
   "metadata": {},
   "outputs": [],
   "source": [
    "help(conn.builtIns)"
   ]
  },
  {
   "cell_type": "markdown",
   "metadata": {},
   "source": [
    "g. In the actionSetInfo action add the all parameter with the value *True* to see all available action sets. Notice that most action sets are not loaded by default."
   ]
  },
  {
   "cell_type": "code",
   "execution_count": null,
   "metadata": {},
   "outputs": [],
   "source": [
    "conn.actionsetInfo(all = True)"
   ]
  },
  {
   "cell_type": "markdown",
   "metadata": {},
   "source": [
    "### 4. Working with CAS Tables - Comparing the Pandas API and CAS Actions in the SWAT Package."
   ]
  },
  {
   "cell_type": "markdown",
   "metadata": {},
   "source": [
    "Create a reference to a CAS table using the [CASTable](https://sassoftware.github.io/python-swat/generated/swat.cas.table.CASTable.html#swat.cas.table.CASTable) method in the variable **tbl**. Print the value of the new **tbl** variable and its type. Notice that it's a reference to an in-memory table on the CAS server and the object type is **CASTable**. Remember, this variable does not store a table, only a reference to a CAS table."
   ]
  },
  {
   "cell_type": "code",
   "execution_count": null,
   "metadata": {},
   "outputs": [],
   "source": [
    "tbl = conn.CASTable('cars', caslib = 'casuser')\n",
    "\n",
    "display(type(tbl), tbl)"
   ]
  },
  {
   "cell_type": "markdown",
   "metadata": {},
   "source": [
    "#### Using the SWAT Package Pandas API on a CAS Table"
   ]
  },
  {
   "cell_type": "markdown",
   "metadata": {},
   "source": [
    "a. Execute the [head](https://sassoftware.github.io/python-swat/generated/swat.cas.table.CASTable.head.html#swat.cas.table.CASTable.head) method on the CAS table. The CAS server processes the data and then returns five rows to the client."
   ]
  },
  {
   "cell_type": "code",
   "execution_count": null,
   "metadata": {},
   "outputs": [],
   "source": [
    "tbl.head()"
   ]
  },
  {
   "cell_type": "markdown",
   "metadata": {},
   "source": [
    "b. View the object type returned to the client from the head method. Notice that it's a **SASDataFrame** object."
   ]
  },
  {
   "cell_type": "code",
   "execution_count": null,
   "metadata": {},
   "outputs": [],
   "source": [
    "df = tbl.head()\n",
    "type(df)"
   ]
  },
  {
   "cell_type": "markdown",
   "metadata": {},
   "source": [
    "**Notes**:\n",
    "A **SASDataFrame** object\n",
    "- is data that is local on the client. Remember that CAS can hold larger data than your local computer can handle.\n",
    "- is a subclass of a **pandas.DataFrame**. You can work with **SASDataFrame** objects as you normally do a **pandas.DataFrame**."
   ]
  },
  {
   "cell_type": "markdown",
   "metadata": {},
   "source": [
    "c. Use the Pandas plot method on the client-side **SASDataFrame** object to create a bar chart. Notice you can easily work with objects returned from the CAS server with familiar Python packages."
   ]
  },
  {
   "cell_type": "code",
   "execution_count": null,
   "metadata": {},
   "outputs": [],
   "source": [
    "df.plot(kind = 'bar', x = 'Model', y = 'MSRP', \n",
    "        figsize = (8,6));"
   ]
  },
  {
   "cell_type": "markdown",
   "metadata": {},
   "source": [
    "d. Use the [value_counts](https://sassoftware.github.io/python-swat/generated/swat.cas.table.CASColumn.value_counts.html#swat.cas.table.CASColumn.value_counts) method on a **CASTable** object to return the number of unique values of a CAS table column. View the object type returned from the CAS server. Notice that the CAS server returns a **Series** object to the client."
   ]
  },
  {
   "cell_type": "code",
   "execution_count": null,
   "metadata": {},
   "outputs": [],
   "source": [
    "s = (tbl\n",
    "     .Type\n",
    "     .value_counts())\n",
    "\n",
    "display(type(s), s)"
   ]
  },
  {
   "cell_type": "markdown",
   "metadata": {},
   "source": [
    "e. Use the value_counts method on a CAS table to return a **Series** object to the client. Then use the Pandas plot method on the client to plot the results. The value_counts method summarizes the CAS table on the CAS server and returns a **Series** object to the client. Then the Pandas plot method visualizes the **Series** on the client."
   ]
  },
  {
   "cell_type": "code",
   "execution_count": null,
   "metadata": {},
   "outputs": [],
   "source": [
    "(tbl\n",
    " .Type\n",
    " .value_counts(normalize = True)\n",
    " .plot(kind = 'bar', figsize = (8,6)));"
   ]
  },
  {
   "cell_type": "markdown",
   "metadata": {},
   "source": [
    "f. Use the [shape](https://sassoftware.github.io/python-swat/generated/swat.cas.table.CASTable.shape.html#swat.cas.table.CASTable.shape) attribute to show the dimensions of the CAS table. Check the object type returned from the CAS server. Notice that the shape attribute returns a **tuple** to the client."
   ]
  },
  {
   "cell_type": "code",
   "execution_count": null,
   "metadata": {},
   "outputs": [],
   "source": [
    "shape = tbl.shape\n",
    "\n",
    "display(shape, type(shape))"
   ]
  },
  {
   "cell_type": "markdown",
   "metadata": {},
   "source": [
    "**Note**:\n",
    "- A **CASTable** object is a reference to an in-memory table on the CAS server.\n",
    "- The SWAT package API contains many of the methods defined by the **pandas.DataFrame** object. Using these methods from the SWAT API will typically return a **CASTable**, **CASColumn**, **pandas.DataFrame**, **SASDataFrame**, or **pandas.Series** object to the client.\n",
    "- Once summarized data is returned to the client, you can work with it as you normally would in Python."
   ]
  },
  {
   "cell_type": "markdown",
   "metadata": {},
   "source": [
    "#### Using a CAS Action on a CAS Table"
   ]
  },
  {
   "cell_type": "markdown",
   "metadata": {},
   "source": [
    "a. Execute the [table.fetch](https://go.documentation.sas.com/doc/en/pgmsascdc/v_016/caspg/cas-table-fetch.htm?homeOnFail) action on a CAS table to return five rows. Notice that there are a variety of ways to execute an action."
   ]
  },
  {
   "cell_type": "code",
   "execution_count": null,
   "metadata": {},
   "outputs": [],
   "source": [
    "## Method 1\n",
    "tbl.fetch(to = 5)\n",
    "\n",
    "## Method 2\n",
    "#tbl.table.fetch(to = 5)\n",
    "\n",
    "## Method 3\n",
    "#conn.fetch(table = tbl, to = 5)\n",
    "\n",
    "## Method 4\n",
    "#conn.fetch(table = {'name':'cars','caslib':'casuser'}, to = 5)"
   ]
  },
  {
   "cell_type": "markdown",
   "metadata": {},
   "source": [
    "b. View the object returned to the client from a CAS action. Notice that it's a **CASResults** object. A **CASResults** object is simply a Python dictionary with some additional attributes and methods."
   ]
  },
  {
   "cell_type": "code",
   "execution_count": null,
   "metadata": {},
   "outputs": [],
   "source": [
    "type(tbl.fetch(to = 5))"
   ]
  },
  {
   "cell_type": "markdown",
   "metadata": {},
   "source": [
    "c. Store the **CASResults** object in a variable named **cr**. View the available keys in the **CASResults** object using the keys method. Notice that the keys method returns a single key, *Fetch*. If you look at the output of the previous cell, you can see that the key is located above the object."
   ]
  },
  {
   "cell_type": "code",
   "execution_count": null,
   "metadata": {},
   "outputs": [],
   "source": [
    "cr = tbl.fetch(to = 5)\n",
    "cr.keys()"
   ]
  },
  {
   "cell_type": "markdown",
   "metadata": {},
   "source": [
    "d. Call the *Fetch* key in the **CASResults** object to return the value the key holds. View the type and value of the returned object. Notice that the **CASResults** object contains a **SASDataFrame**. "
   ]
  },
  {
   "cell_type": "code",
   "execution_count": null,
   "metadata": {},
   "outputs": [],
   "source": [
    "display(type(cr['Fetch']), \n",
    "        cr['Fetch'])"
   ]
  },
  {
   "cell_type": "markdown",
   "metadata": {},
   "source": [
    "e. Call the *Fetch* key from the **CASResults** object to return the **SASDataFrame**. Once you have the **SASDataFrame**, you can work with it as you would a **pandas.DataFrame**. Here, the Pandas plot method is executed."
   ]
  },
  {
   "cell_type": "code",
   "execution_count": null,
   "metadata": {},
   "outputs": [],
   "source": [
    "(cr['Fetch']\n",
    " .plot(kind = 'bar', x = 'Model',y = 'MSRP', \n",
    "       figsize=(8,6)));"
   ]
  },
  {
   "cell_type": "markdown",
   "metadata": {
    "tags": []
   },
   "source": [
    "**Notes**:\n",
    "- CAS actions interact with the CAS server and return a **CASResults** object. \n",
    "- A **CASResults** object is simply an ordered Python dictionary with a few extra methods and attributes added.\n",
    "- **CASResults** objects are local on the client.\n",
    "- Although all CAS actions return a **CASResults** object, there are no rules about how many keys are contained in the object or what objects are returned."
   ]
  },
  {
   "cell_type": "markdown",
   "metadata": {},
   "source": [
    "### 5. View the Execution of the CAS API"
   ]
  },
  {
   "cell_type": "markdown",
   "metadata": {},
   "source": [
    "a. To view what the CAS API is executing on the CAS server, you can enable tracing of actions by turning on the **trace_actions** and **trace_ui_actions** options."
   ]
  },
  {
   "cell_type": "code",
   "execution_count": null,
   "metadata": {},
   "outputs": [],
   "source": [
    "swat.options.cas.trace_actions = True      \n",
    "swat.options.cas.trace_ui_actions = True"
   ]
  },
  {
   "cell_type": "markdown",
   "metadata": {},
   "source": [
    "b. Execute the SWAT head method on the **CASTable** object. Notice that the cell shows what actions were executed on the CAS server. In this example, the head method executes the fetch action on the CAS server."
   ]
  },
  {
   "cell_type": "code",
   "execution_count": null,
   "metadata": {},
   "outputs": [],
   "source": [
    "tbl.head()"
   ]
  },
  {
   "cell_type": "markdown",
   "metadata": {},
   "source": [
    "c. Execute the value_counts method on the **CASTable** object. Notice that the cell shows that the columnInfo and freq actions were executed on the CAS server to produce similar results to the value_counts method."
   ]
  },
  {
   "cell_type": "code",
   "execution_count": null,
   "metadata": {},
   "outputs": [],
   "source": [
    "(tbl\n",
    " .Type\n",
    " .value_counts())"
   ]
  },
  {
   "cell_type": "markdown",
   "metadata": {},
   "source": [
    "d. Execute the fetch CAS action on the **CASTable** object. Notice that the output shows that the fetch action was executed on the CAS server."
   ]
  },
  {
   "cell_type": "code",
   "execution_count": null,
   "metadata": {},
   "outputs": [],
   "source": [
    "tbl.fetch(to = 5)"
   ]
  },
  {
   "cell_type": "markdown",
   "metadata": {},
   "source": [
    "e. Set the **trace_actions** and **trace_ui_actions** options to the default *False* value."
   ]
  },
  {
   "cell_type": "code",
   "execution_count": null,
   "metadata": {},
   "outputs": [],
   "source": [
    "swat.options.cas.trace_actions = False      \n",
    "swat.options.cas.trace_ui_actions = False"
   ]
  },
  {
   "cell_type": "markdown",
   "metadata": {},
   "source": [
    "### 6. Terminate the CAS Session"
   ]
  },
  {
   "cell_type": "markdown",
   "metadata": {},
   "source": [
    "It's best practice to always terminate the CAS session when you are done."
   ]
  },
  {
   "cell_type": "code",
   "execution_count": null,
   "metadata": {},
   "outputs": [],
   "source": [
    "conn.terminate()"
   ]
  },
  {
   "cell_type": "markdown",
   "metadata": {},
   "source": [
    " "
   ]
  }
 ],
 "metadata": {
  "kernelspec": {
   "display_name": "Python 3 (ipykernel)",
   "language": "python",
   "name": "python3"
  },
  "language_info": {
   "codemirror_mode": {
    "name": "ipython",
    "version": 3
   },
   "file_extension": ".py",
   "mimetype": "text/x-python",
   "name": "python",
   "nbconvert_exporter": "python",
   "pygments_lexer": "ipython3",
   "version": "3.8.12"
  }
 },
 "nbformat": 4,
 "nbformat_minor": 4
}
