{
 "cells": [
  {
   "cell_type": "markdown",
   "metadata": {},
   "source": [
    "# Demo: Promoting a CAS Table"
   ]
  },
  {
   "cell_type": "markdown",
   "metadata": {},
   "source": [
    "### 1. Import Packages and Connect to the CAS Server\n",
    "\n",
    "Visit the documentation for the SWAT [(SAS Scripting Wrapper for Analytics Transfer)](https://sassoftware.github.io/python-swat/index.html) package."
   ]
  },
  {
   "cell_type": "code",
   "execution_count": null,
   "metadata": {
    "tags": []
   },
   "outputs": [],
   "source": [
    "## Import packages\n",
    "import swat\n",
    "import pandas as pd\n",
    "import matplotlib.pyplot as plt\n",
    "plt.style.use('seaborn')\n",
    "\n",
    "## Set options\n",
    "pd.set_option('display.max_columns', None)\n",
    "\n",
    "## Connect to CAS\n",
    "conn = swat.CAS('server.demo.sas.com', 30571, 'student', 'Metadata0', name = 'py02d03')"
   ]
  },
  {
   "cell_type": "markdown",
   "metadata": {},
   "source": [
    "### 2. Explore Available Caslibs and Files\n",
    "\n",
    "a. Use the caslibInfo action to display a list of available caslibs."
   ]
  },
  {
   "cell_type": "code",
   "execution_count": null,
   "metadata": {},
   "outputs": [],
   "source": [
    "conn.caslibInfo()"
   ]
  },
  {
   "cell_type": "markdown",
   "metadata": {},
   "source": [
    "b. Use the tableInfo action to display available CAS tables."
   ]
  },
  {
   "cell_type": "code",
   "execution_count": null,
   "metadata": {},
   "outputs": [],
   "source": [
    "conn.tableInfo(caslib = 'casuser')"
   ]
  },
  {
   "cell_type": "markdown",
   "metadata": {},
   "source": [
    "c. Use the fileInfo action to display available files in the **PIVY** caslib. "
   ]
  },
  {
   "cell_type": "code",
   "execution_count": null,
   "metadata": {},
   "outputs": [],
   "source": [
    "conn.fileInfo(caslib = 'PIVY')"
   ]
  },
  {
   "cell_type": "markdown",
   "metadata": {},
   "source": [
    "### 3. Load a Server-Side File into Memory as a Session-Scope Table\n",
    "a. Use the loadTable action to load the **loans_raw.sashdat** file into memory as a session-scope table. Execute the tableInfo action to view the new table. Notice that the **Global** column has a value of *1* for the **CARS** table and a value of *0* for the **LOANS_RAW** table."
   ]
  },
  {
   "cell_type": "code",
   "execution_count": null,
   "metadata": {},
   "outputs": [],
   "source": [
    "conn.loadTable(path = 'loans_raw.sashdat', caslib = 'PIVY',\n",
    "               casOut = {'name' : 'loans_raw',\n",
    "                         'caslib' : 'casuser'})\n",
    "\n",
    "conn.tableInfo(caslib = 'casuser')"
   ]
  },
  {
   "cell_type": "markdown",
   "metadata": {},
   "source": [
    "b. Execute the listSessions action to view available CAS sessions. View the available CAS sessions. If you haven't terminated previous CAS sessions, you will see multiple CAS sessions in the results. Notice that in this example the session name is *py02d03* and the date and time the CAS connection was made."
   ]
  },
  {
   "cell_type": "code",
   "execution_count": null,
   "metadata": {},
   "outputs": [],
   "source": [
    "conn.listSessions()"
   ]
  },
  {
   "cell_type": "markdown",
   "metadata": {},
   "source": [
    "c. Open up SAS Visual Analytics and try to access the **loans_raw** CAS table to create a dashboard. \n",
    ">1. Open a new browser tab and sign into SAS Viya. If prompted to **Assume admin roles** select No.\n",
    ">2. Open the applications menu in SAS Viya and select **Explore and Visualize** to open SAS Visual Analytics.\n",
    ">3. Select **Start with Data**.\n",
    ">4. Click Refresh. Notice that the **LOANS_RAW** table is not available to the SAS Visual Analytics CAS session.\n",
    "\n",
    "Notice how the **LOANS_RAW** CAS table does not exist in the Visual Analytics CAS session, but it does exist in this CAS session. Leave the Visual Analytics application open."
   ]
  },
  {
   "cell_type": "markdown",
   "metadata": {},
   "source": [
    "d. Execute the listSessions action to view available CAS sessions. Notice that a new CAS session was created named dataExplorer. That is a new unique CAS session that was created for Visual Analytics."
   ]
  },
  {
   "cell_type": "code",
   "execution_count": null,
   "metadata": {},
   "outputs": [],
   "source": [
    "conn.listSessions()"
   ]
  },
  {
   "cell_type": "markdown",
   "metadata": {},
   "source": [
    "e. Terminate the current CAS session, and then reconnect to CAS and execute the tableInfo action to view available tables. Notice that the session-scope table **LOANS_RAW** was deleted because it was only a session-scope table, but the **CARS** CAS table still exists."
   ]
  },
  {
   "cell_type": "code",
   "execution_count": null,
   "metadata": {},
   "outputs": [],
   "source": [
    "## Terminate the current CAS session\n",
    "conn.terminate()\n",
    "\n",
    "## Create a new CAS session\n",
    "conn = swat.CAS('server.demo.sas.com', 30571, 'student', 'Metadata0', name = 'py02d03b')\n",
    "conn.tableInfo(caslib = 'casuser')"
   ]
  },
  {
   "cell_type": "markdown",
   "metadata": {},
   "source": [
    "### 4. Load a Server-Side File into Memory as a Global-Scope Table\n",
    "a. Load the **loans_raw.sashdat** file into memory using the loadTable action and promote the table using the promote sub-parameter within the casOut parameter. Execute the tableInfo action. Notice that the **Global** column has a value of *1* for both the **CARS** and **LOANS_RAW** tables."
   ]
  },
  {
   "cell_type": "code",
   "execution_count": null,
   "metadata": {},
   "outputs": [],
   "source": [
    "conn.loadTable(path = 'loans_raw.sashdat', caslib = 'PIVY',\n",
    "               casOut = {'name' : 'loans_raw',\n",
    "                         'caslib' : 'casuser',\n",
    "                         'promote' : True})\n",
    "\n",
    "conn.tableInfo(caslib = 'casuser')"
   ]
  },
  {
   "cell_type": "markdown",
   "metadata": {},
   "source": [
    "b. Go back to SAS Visual Analytics and refresh the available tables. Notice that the **LOANS_RAW** global-scope table now is available outside of this CAS session in another SAS Viya application."
   ]
  },
  {
   "cell_type": "markdown",
   "metadata": {},
   "source": [
    "c. Terminate your connection to CAS and reconnect. Notice that the **LOANS_RAW** global scope table now persists in memory between CAS sessions."
   ]
  },
  {
   "cell_type": "code",
   "execution_count": null,
   "metadata": {},
   "outputs": [],
   "source": [
    "## Terminate the CAS session\n",
    "conn.terminate()\n",
    "\n",
    "## Reconnect to CAS\n",
    "conn = swat.CAS('server.demo.sas.com', 30571, 'student', 'Metadata0', name = 'py02d03c')\n",
    "\n",
    "## View available CAS tables\n",
    "conn.tableInfo(caslib = 'casuser')"
   ]
  },
  {
   "cell_type": "markdown",
   "metadata": {},
   "source": [
    "### 5. Terminate the CAS Session"
   ]
  },
  {
   "cell_type": "markdown",
   "metadata": {},
   "source": [
    "It's best practice to always terminate the CAS session when you are done."
   ]
  },
  {
   "cell_type": "code",
   "execution_count": null,
   "metadata": {},
   "outputs": [],
   "source": [
    "conn.terminate()"
   ]
  },
  {
   "cell_type": "markdown",
   "metadata": {},
   "source": [
    " "
   ]
  }
 ],
 "metadata": {
  "kernelspec": {
   "display_name": "Python 3 (ipykernel)",
   "language": "python",
   "name": "python3"
  },
  "language_info": {
   "codemirror_mode": {
    "name": "ipython",
    "version": 3
   },
   "file_extension": ".py",
   "mimetype": "text/x-python",
   "name": "python",
   "nbconvert_exporter": "python",
   "pygments_lexer": "ipython3",
   "version": "3.8.12"
  }
 },
 "nbformat": 4,
 "nbformat_minor": 4
}
