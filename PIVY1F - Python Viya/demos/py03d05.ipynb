{
 "cells": [
  {
   "cell_type": "markdown",
   "metadata": {},
   "source": [
    "# Demo: Grouping and Aggregating"
   ]
  },
  {
   "cell_type": "markdown",
   "metadata": {},
   "source": [
    "### 1. Import Packages and Connect to the CAS Server\n",
    "\n",
    "Visit the documentation for the SWAT [(SAS Scripting Wrapper for Analytics Transfer)](https://sassoftware.github.io/python-swat/index.html) package."
   ]
  },
  {
   "cell_type": "code",
   "execution_count": null,
   "metadata": {},
   "outputs": [],
   "source": [
    "## Import packages\n",
    "import swat\n",
    "import pandas as pd\n",
    "import matplotlib.pyplot as plt\n",
    "plt.style.use('seaborn')\n",
    "\n",
    "## Set options\n",
    "pd.set_option('display.max_columns', None)\n",
    "\n",
    "## Connect to CAS\n",
    "conn = swat.CAS('server.demo.sas.com', 30571, 'student', 'Metadata0', name = 'py03d05')\n",
    "\n",
    "## Function to load the loans_raw.sashdat file into memory if necessary\n",
    "def loadLoans():\n",
    "    conn.loadTable(path = 'loans_raw.sashdat', caslib = 'PIVY',\n",
    "                   casOut = {'name' : 'loans_raw',\n",
    "                            'caslib' : 'casuser',\n",
    "                            'promote' : True})"
   ]
  },
  {
   "cell_type": "markdown",
   "metadata": {
    "tags": []
   },
   "source": [
    "### 2. Explore Available CAS Tables and Data Source Files\n",
    "\n",
    "\n",
    "a. Use the tableInfo action to view all available in-memory tables in the **Casuser** caslib. If the **LOANS_RAW** CAS table is not available, uncomment the loadLoans function and execute the cell."
   ]
  },
  {
   "cell_type": "code",
   "execution_count": null,
   "metadata": {},
   "outputs": [],
   "source": [
    "#loadLoans()\n",
    "conn.tableInfo(caslib = 'casuser')"
   ]
  },
  {
   "cell_type": "markdown",
   "metadata": {},
   "source": [
    "b. Reference the **LOANS_RAW** CAS table using the CASTable method. Within the CASTable method, add the where parameter to filter for rows where **Category** equals *Credit Card*. This is an alternate method to add the where parameter to a **CASTable** object. Then preview the CAS table using the head method."
   ]
  },
  {
   "cell_type": "code",
   "execution_count": null,
   "metadata": {},
   "outputs": [],
   "source": [
    "## All rows where Category equals Credit Card\n",
    "ccTbl = conn.CASTable('loans_raw', \n",
    "                      caslib = 'casuser', \n",
    "                      where = 'Category = \"Credit Card\"')\n",
    "display(ccTbl)\n",
    "\n",
    "## Preview the table\n",
    "ccTbl.head()"
   ]
  },
  {
   "cell_type": "markdown",
   "metadata": {},
   "source": [
    "### 3. Pandas groupby Method"
   ]
  },
  {
   "cell_type": "markdown",
   "metadata": {},
   "source": [
    "a. Use the [groupby](https://sassoftware.github.io/python-swat/generated/swat.cas.table.CASTable.groupby.html#swat.cas.table.CASTable.groupby) method to group the CAS table by **LoanGrade** and store the results in the variable **loan_grp**. This works similarly to the Pandas groupby method. View the object and notice that it creates a **CASTableGroupBy** object. This is similar to the **DataFrameGroupBy** object created in Pandas."
   ]
  },
  {
   "cell_type": "code",
   "execution_count": null,
   "metadata": {},
   "outputs": [],
   "source": [
    "loan_grp = ccTbl.groupby('LoanGrade')\n",
    "loan_grp"
   ]
  },
  {
   "cell_type": "markdown",
   "metadata": {},
   "source": [
    "b. Once the CAS table is grouped in a **CASTableGroupBy** object, you can execute summary methods or actions on the **loan_grp** variable as you would a group in Pandas. Here, use the mean method to view the mean of **Amount** for each value of **LoanGrade** for rows where **Category** is *Credit Card*."
   ]
  },
  {
   "cell_type": "code",
   "execution_count": null,
   "metadata": {},
   "outputs": [],
   "source": [
    "(loan_grp\n",
    " .Amount\n",
    " .mean())"
   ]
  },
  {
   "cell_type": "markdown",
   "metadata": {},
   "source": [
    "c. You can also execute actions on a **CASTableGroupBy** object. Execute the summary action on **loan_grp**, and store the results of the action in the variable **cr**. Notice that an action on a **CASTableGroupBy** object returns a **CASResults** object with each distinct group as its own **SASDataFrame**. "
   ]
  },
  {
   "cell_type": "code",
   "execution_count": null,
   "metadata": {},
   "outputs": [],
   "source": [
    "cr = loan_grp.summary(inputs = 'Amount', \n",
    "                      subSet = ['MEAN'])\n",
    "cr"
   ]
  },
  {
   "cell_type": "markdown",
   "metadata": {},
   "source": [
    "d. A **CASResults** object has additional methods and attributes that can be used. The [concat_bygroups](https://sassoftware.github.io/python-swat/generated/swat.cas.results.CASResults.concat_bygroups.html#swat.cas.results.CASResults.concat_bygroups) method concatenates each individual By group into a single **SASDataFrame**. The concat_bygroups method returns a **CASResults** object with a key named *Summary*. Call the *Summary* key to return the **SASDataFrame** in the variable **loan_df**. View the type and value of **loan_df**."
   ]
  },
  {
   "cell_type": "code",
   "execution_count": null,
   "metadata": {},
   "outputs": [],
   "source": [
    "loan_df = cr.concat_bygroups()['Summary']\n",
    "\n",
    "display(type(loan_df), loan_df)"
   ]
  },
  {
   "cell_type": "markdown",
   "metadata": {},
   "source": [
    "e. Once you have the **SASDataFrame**, you can work with it as you would a **pandas.DataFrame**. Here, we plot the mean of **Amount** of for each value of **LoanGrade** using Matplotlib. Notice that the mean amount of credit card debt is similar across loan grades."
   ]
  },
  {
   "cell_type": "code",
   "execution_count": null,
   "metadata": {},
   "outputs": [],
   "source": [
    "fig, ax = plt.subplots(figsize = (8,6))\n",
    "ax.bar(loan_df.index, loan_df.Mean, color = 'blue')\n",
    "ax.set_title('Average Amount of Credit Card Debt by Loan Grade',\n",
    "             fontdict = {'fontsize' : 14, \n",
    "                         'color' : 'gray'}, \n",
    "             loc = 'left');"
   ]
  },
  {
   "cell_type": "markdown",
   "metadata": {},
   "source": [
    "### 4. Using the groupBy Parameter"
   ]
  },
  {
   "cell_type": "markdown",
   "metadata": {},
   "source": [
    "a. You can also add the groupBy parameter on a **CASTable** object to achieve similar results. Here, we specify **LoanGrade** as the groupBy parameter value and add the **Amount** column to the vars parameter. View the **CASTable** object created earlier prior to adding the parameters, then and after. Notice that the where parameter still exists, and the vars and groupBy parameters were added."
   ]
  },
  {
   "cell_type": "code",
   "execution_count": null,
   "metadata": {},
   "outputs": [],
   "source": [
    "display(ccTbl)\n",
    "\n",
    "ccTbl.groupBy = 'LoanGrade'\n",
    "ccTbl.vars = ['Amount']\n",
    "ccTbl"
   ]
  },
  {
   "cell_type": "markdown",
   "metadata": {},
   "source": [
    "b. Once the groupBy parameter is added to the **CASTable** object, you can execute methods on the **CASTable** object that contains the groupBy, vars, and where parameters. Here, the mean of each value of **LoanGrade** is calculated for all *Credit Card* rows using the mean method. Notice that the groupBy parameter returns a **SASDataFrame** instead of a **Series** as previously shown."
   ]
  },
  {
   "cell_type": "code",
   "execution_count": null,
   "metadata": {},
   "outputs": [],
   "source": [
    "ccTbl.mean()"
   ]
  },
  {
   "cell_type": "markdown",
   "metadata": {},
   "source": [
    "c. You can also execute actions on the **CASTable** object. Here, the summary action is executed to achieve similar results. Remember, executing an action on a group returns a **CASResults** object with a **SASDataFrame** for each unique groupBy value.\n",
    "\n",
    "To combine all **SASDataFrame** objects in a **CASResults** object, you can use the concat_bygroups method. Then call the *Summary* key to return the **SASDataFrame**."
   ]
  },
  {
   "cell_type": "code",
   "execution_count": null,
   "metadata": {},
   "outputs": [],
   "source": [
    "cr = ccTbl.summary(subSet = ['MEAN'])\n",
    "\n",
    "loanGrade_df = cr.concat_bygroups()['Summary']\n",
    "loanGrade_df"
   ]
  },
  {
   "cell_type": "markdown",
   "metadata": {},
   "source": [
    "### 5. Terminate the CAS Session"
   ]
  },
  {
   "cell_type": "markdown",
   "metadata": {},
   "source": [
    "It's best practice to always terminate the CAS session when you are done."
   ]
  },
  {
   "cell_type": "code",
   "execution_count": null,
   "metadata": {},
   "outputs": [],
   "source": [
    "conn.terminate()"
   ]
  },
  {
   "cell_type": "markdown",
   "metadata": {},
   "source": [
    " "
   ]
  }
 ],
 "metadata": {
  "kernelspec": {
   "display_name": "Python 3 (ipykernel)",
   "language": "python",
   "name": "python3"
  },
  "language_info": {
   "codemirror_mode": {
    "name": "ipython",
    "version": 3
   },
   "file_extension": ".py",
   "mimetype": "text/x-python",
   "name": "python",
   "nbconvert_exporter": "python",
   "pygments_lexer": "ipython3",
   "version": "3.8.12"
  }
 },
 "nbformat": 4,
 "nbformat_minor": 4
}
