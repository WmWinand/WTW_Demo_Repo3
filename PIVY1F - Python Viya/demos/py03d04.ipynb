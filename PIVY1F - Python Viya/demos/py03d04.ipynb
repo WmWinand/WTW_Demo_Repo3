{
 "cells": [
  {
   "cell_type": "markdown",
   "metadata": {},
   "source": [
    "# Demo: Analyzing Continuous Columns"
   ]
  },
  {
   "cell_type": "markdown",
   "metadata": {},
   "source": [
    "### 1. Import Packages and Connect to the CAS Server\n",
    "\n",
    "Visit the documentation for the SWAT [(SAS Scripting Wrapper for Analytics Transfer)](https://sassoftware.github.io/python-swat/index.html) package."
   ]
  },
  {
   "cell_type": "code",
   "execution_count": null,
   "metadata": {},
   "outputs": [],
   "source": [
    "## Import packages\n",
    "import swat\n",
    "import pandas as pd\n",
    "\n",
    "## Set options\n",
    "pd.set_option('display.max_columns', None)\n",
    "\n",
    "## Connect to CAS\n",
    "conn = swat.CAS('server.demo.sas.com', 30571, 'student', 'Metadata0', name = 'py03d04')\n",
    "\n",
    "## Function to load the loans_raw.sashdat file into memory if necessary\n",
    "def loadLoans():\n",
    "    conn.loadTable(path = 'loans_raw.sashdat', caslib = 'PIVY',\n",
    "                   casOut = {'name' : 'loans_raw',\n",
    "                            'caslib' : 'casuser',\n",
    "                            'promote' : True})"
   ]
  },
  {
   "cell_type": "markdown",
   "metadata": {},
   "source": [
    "### 2. Explore Available CAS Tables and Data Source Files\n",
    "\n",
    "\n",
    "a. Use the tableInfo action to view all available in-memory tables in the **Casuser** caslib. If the **LOANS_RAW** CAS table is not available, uncomment the loadLoans function and execute the cell."
   ]
  },
  {
   "cell_type": "code",
   "execution_count": null,
   "metadata": {},
   "outputs": [],
   "source": [
    "#loadLoans()\n",
    "conn.tableInfo(caslib = 'casuser')"
   ]
  },
  {
   "cell_type": "markdown",
   "metadata": {},
   "source": [
    "b. Reference the **loans_raw** CAS table using the CASTable method and preview the table using the head method."
   ]
  },
  {
   "cell_type": "code",
   "execution_count": null,
   "metadata": {},
   "outputs": [],
   "source": [
    "tbl = conn.CASTable('loans_raw', caslib = 'casuser')\n",
    "tbl.head()"
   ]
  },
  {
   "cell_type": "markdown",
   "metadata": {},
   "source": [
    "### 3. Using Familiar Pandas Methods in the SWAT Package"
   ]
  },
  {
   "cell_type": "markdown",
   "metadata": {},
   "source": [
    "a. Use the describe method to view descriptive statistics of each continuous column of a CAS table. Before you use the describe method, use the Jupyter magic function time in order to time the execution of the Python statement or expression. Take note of the amount of time that it takes the describe SWAT method to execute.\n",
    "\n",
    "**Note**: Time will vary based on your environment."
   ]
  },
  {
   "cell_type": "code",
   "execution_count": null,
   "metadata": {},
   "outputs": [],
   "source": [
    "%%time\n",
    "tbl.describe()"
   ]
  },
  {
   "cell_type": "markdown",
   "metadata": {},
   "source": [
    "b. You can use summary functions as you would in Pandas on a CAS table. Here, we find the max value of the **Amount** column."
   ]
  },
  {
   "cell_type": "code",
   "execution_count": null,
   "metadata": {},
   "outputs": [],
   "source": [
    "(tbl\n",
    " .Amount\n",
    " .max())"
   ]
  },
  {
   "cell_type": "markdown",
   "metadata": {},
   "source": [
    "c. You can also query a CAS table using the query method. Here, we query the CAS table for all rows where **Category** equals *Credit Card*. Then we find the mean credit card amount balance of credit cards."
   ]
  },
  {
   "cell_type": "code",
   "execution_count": null,
   "metadata": {},
   "outputs": [],
   "source": [
    "(tbl\n",
    " .query('Category = \"Credit Card\"')\n",
    " .Amount\n",
    " .mean())"
   ]
  },
  {
   "cell_type": "markdown",
   "metadata": {},
   "source": [
    "### 4. Summary Action"
   ]
  },
  {
   "cell_type": "markdown",
   "metadata": {},
   "source": [
    "a. Instead of using the describe method you can use the [simple.summary](https://go.documentation.sas.com/doc/en/pgmsascdc/v_017/casanpg/cas-simple-summary.htm?homeOnFail) action. The summary action returns a variety of descriptive statistics like the describe method. Notice that the summary action executed much faster than the describe method.\n",
    "\n",
    "**Note:** CAS actions are sent directly to the CAS server for processing. Pandas API methods in the SWAT package are converted to a variety of CAS actions through the CAS API to produce similar results to Pandas methods."
   ]
  },
  {
   "cell_type": "code",
   "execution_count": null,
   "metadata": {},
   "outputs": [],
   "source": [
    "tbl.summary()"
   ]
  },
  {
   "cell_type": "markdown",
   "metadata": {},
   "source": [
    "b. You can use the vars parameter to set the columns to analyze in the CAS table. Here, add the **Amount**, **InterestRate**, and **LoanLength** columns to the CAS table object. Then execute the summary action on the specified columns."
   ]
  },
  {
   "cell_type": "code",
   "execution_count": null,
   "metadata": {},
   "outputs": [],
   "source": [
    "tbl.vars = ['Amount', 'InterestRate', 'LoanLength']\n",
    "display(tbl)\n",
    "\n",
    "tbl.summary()"
   ]
  },
  {
   "cell_type": "markdown",
   "metadata": {},
   "source": [
    "c. Add the subSet parameter to specify the summary statistics to process. Here, the Mean, Max, and Min statistics are requested using the columns contained in the vars parameter."
   ]
  },
  {
   "cell_type": "code",
   "execution_count": null,
   "metadata": {},
   "outputs": [],
   "source": [
    "tbl.summary(subSet = ['Mean','Max','Min'])"
   ]
  },
  {
   "cell_type": "markdown",
   "metadata": {},
   "source": [
    "d. Add the where parameter to the **CASTable** object to filter for rows where **Category** equals *Credit Card*. Then execute the summary action. Notice that the **CASTable** object now contains both the vars and where parameters."
   ]
  },
  {
   "cell_type": "code",
   "execution_count": null,
   "metadata": {},
   "outputs": [],
   "source": [
    "tbl.where = 'Category = \"Credit Card\"'\n",
    "display(tbl)\n",
    "\n",
    "tbl.summary(subSet = ['Mean','Max','Min'])"
   ]
  },
  {
   "cell_type": "markdown",
   "metadata": {},
   "source": [
    "e. Create a calculated column using the computedVarsProgram parameter named **MonthlySalary**. Then append the new column to the vars parameter using the append method. Lastly, display the **CASTable** object and summarize the CAS table."
   ]
  },
  {
   "cell_type": "code",
   "execution_count": null,
   "metadata": {},
   "outputs": [],
   "source": [
    "## Create a calculated column\n",
    "tbl.computedVarsProgram = 'MonthlySalary = round(Salary/12);'\n",
    "\n",
    "## Append the column name to the list of column inputs\n",
    "tbl.vars.append('MonthlySalary')\n",
    "display(tbl)\n",
    "\n",
    "## Analyze the CAS table\n",
    "tbl.summary(subSet = ['MIN','MEAN','MAX'])"
   ]
  },
  {
   "cell_type": "markdown",
   "metadata": {},
   "source": [
    "### 5. Aggregate Action"
   ]
  },
  {
   "cell_type": "markdown",
   "metadata": {},
   "source": [
    "a. The [aggregation.aggregate](https://go.documentation.sas.com/doc/en/pgmsascdc/v_017/casanpg/cas-aggregation-aggregate.htm) action provides much more functionality than the summary action. You first need to load the aggregation action set. Use the loadActionSet action."
   ]
  },
  {
   "cell_type": "code",
   "execution_count": null,
   "metadata": {},
   "outputs": [],
   "source": [
    "conn.loadactionset('aggregation')"
   ]
  },
  {
   "cell_type": "markdown",
   "metadata": {},
   "source": [
    "b. View the CAS table reference **tbl**. Notice that it is filtering for rows where **Category** equals *Credit Card*, creating the column **MonthlySalary**, and selecting only the **Amount**, **InterestRate**, **LoanLength**, and **MonthlySalary** columns."
   ]
  },
  {
   "cell_type": "code",
   "execution_count": null,
   "metadata": {},
   "outputs": [],
   "source": [
    "tbl"
   ]
  },
  {
   "cell_type": "markdown",
   "metadata": {},
   "source": [
    "c. Execute the aggregate action on the **tbl** variable. By default, the aggregate action computes only the number of distinct values in each column."
   ]
  },
  {
   "cell_type": "code",
   "execution_count": null,
   "metadata": {},
   "outputs": [],
   "source": [
    "tbl.aggregate()"
   ]
  },
  {
   "cell_type": "markdown",
   "metadata": {},
   "source": [
    "d. The aggregate action provides much more functionality than the summary action. You need to use the varSpecs parameter to specify the columns to analyze. In the varSpecs parameter, you add a list of dictionaries. Each dictionary specifies the column, the aggregation, and any additional options. The aggregate action is similar to the agg Pandas method.\n",
    "\n",
    "Within the dictionary you can use the following parameters to request summary statistics:\n",
    "- The [subSet](https://go.documentation.sas.com/doc/en/pgmsascdc/v_017/casanpg/cas-aggregation-aggregate.htm#SAS.cas-aggregation-aggregate-varspecs-summarysubset) parameter requests statistics that the summary action can execute. You can pass a list of summary statistics.\n",
    "\n",
    "- The [agg](https://go.documentation.sas.com/doc/en/pgmsascdc/v_017/casanpg/cas-aggregation-aggregate.htm#SAS.cas-aggregation-aggregate-varspecs-agg) parameter specifies the aggregator to apply to the analysis variable. It can execute summary statistics that the subSet parameter cannot. Only a single aggregator can be used.\n",
    "\n",
    "In this example, the aggregate action will calculates the median and percentiles of the **Amount** column, and the minimum and maximum of the **InterestRate** column, and the mean, maximum and minimum of the **MonthlySalary** columns. Notice that the action returns a **CASResults** object with four keys, one for each dictionary."
   ]
  },
  {
   "cell_type": "code",
   "execution_count": null,
   "metadata": {},
   "outputs": [],
   "source": [
    "tbl.aggregate(varSpecs = [\n",
    "                        {'name' : 'Amount', 'agg' : 'MEDIAN'},\n",
    "                        {'name' : 'Amount', 'agg' : 'PERCENTILE'},\n",
    "                        {'name' : 'InterestRate', 'subSet' : ['MIN','MAX']},\n",
    "                        {'name' : 'MonthlySalary', 'subSet' : ['MEAN','MIN','MAX']}\n",
    "                         ]\n",
    "             )"
   ]
  },
  {
   "cell_type": "markdown",
   "metadata": {},
   "source": [
    "### 6. Terminate the CAS Session"
   ]
  },
  {
   "cell_type": "markdown",
   "metadata": {},
   "source": [
    "It's best practice to always terminate the CAS session when you are done."
   ]
  },
  {
   "cell_type": "code",
   "execution_count": null,
   "metadata": {},
   "outputs": [],
   "source": [
    "conn.terminate()"
   ]
  },
  {
   "cell_type": "markdown",
   "metadata": {},
   "source": [
    " "
   ]
  }
 ],
 "metadata": {
  "kernelspec": {
   "display_name": "Python 3 (ipykernel)",
   "language": "python",
   "name": "python3"
  },
  "language_info": {
   "codemirror_mode": {
    "name": "ipython",
    "version": 3
   },
   "file_extension": ".py",
   "mimetype": "text/x-python",
   "name": "python",
   "nbconvert_exporter": "python",
   "pygments_lexer": "ipython3",
   "version": "3.8.12"
  }
 },
 "nbformat": 4,
 "nbformat_minor": 4
}
