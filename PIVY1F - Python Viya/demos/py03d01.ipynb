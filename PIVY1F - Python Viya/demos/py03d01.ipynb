{
 "cells": [
  {
   "cell_type": "markdown",
   "metadata": {},
   "source": [
    "# Demo: Exploring a CAS Table"
   ]
  },
  {
   "cell_type": "markdown",
   "metadata": {},
   "source": [
    "### 1. Import Packages and Connect to the CAS Server\n",
    "\n",
    "Visit the documentation for the SWAT [(SAS Scripting Wrapper for Analytics Transfer)](https://sassoftware.github.io/python-swat/index.html) package."
   ]
  },
  {
   "cell_type": "code",
   "execution_count": null,
   "metadata": {},
   "outputs": [],
   "source": [
    "## Import packages\n",
    "import swat\n",
    "import pandas as pd\n",
    "import matplotlib.pyplot as plt\n",
    "plt.style.use('seaborn')\n",
    "\n",
    "## Set options\n",
    "pd.set_option('display.max_columns', None)\n",
    "\n",
    "## Connect to CAS\n",
    "conn = swat.CAS('server.demo.sas.com', 30571, 'student', 'Metadata0', name = 'py03d01')\n",
    "\n",
    "## Function to load the loans_raw.sashdat file into memory if necessary\n",
    "def loadLoans():\n",
    "    conn.loadTable(path ='loans_raw.sashdat', caslib = 'PIVY',\n",
    "                   casOut = {'name' : 'loans_raw',\n",
    "                            'caslib' : 'casuser',\n",
    "                            'promote' : True})"
   ]
  },
  {
   "cell_type": "markdown",
   "metadata": {},
   "source": [
    "### 2. Explore Available CAS Tables\n",
    "\n",
    "\n",
    "a. Use the tableInfo action to view all available in-memory tables in the **Casuser** caslib. If the **LOANS_RAW** CAS table is not available, uncomment the loadLoans function and execute the cell."
   ]
  },
  {
   "cell_type": "code",
   "execution_count": null,
   "metadata": {},
   "outputs": [],
   "source": [
    "#loadLoans()\n",
    "conn.tableInfo(caslib = 'casuser')"
   ]
  },
  {
   "cell_type": "markdown",
   "metadata": {},
   "source": [
    "b. Reference the **LOANS_RAW** CAS table from the **Casuser** caslib in the variable **tbl** and view the output. Notice that the **tbl** variable references a CAS table."
   ]
  },
  {
   "cell_type": "code",
   "execution_count": null,
   "metadata": {},
   "outputs": [],
   "source": [
    "tbl = conn.CASTable('loans_raw', caslib = 'casuser')\n",
    "tbl"
   ]
  },
  {
   "cell_type": "markdown",
   "metadata": {},
   "source": [
    "### 3. Preview the Table"
   ]
  },
  {
   "cell_type": "markdown",
   "metadata": {},
   "source": [
    "a. Preview the CAS table using the head method. The head method processes the data on the CAS server and returns the results to the client as a **SASDataFrame**."
   ]
  },
  {
   "cell_type": "code",
   "execution_count": null,
   "metadata": {},
   "outputs": [],
   "source": [
    "tbl.head()"
   ]
  },
  {
   "cell_type": "markdown",
   "metadata": {},
   "source": [
    "b. You can use the sort_values method to sort the CAS table in the CAS server, and then use the head method to return five rows from the sorted CAS table. The head method returns a **SASDataFrame** to the client. With the **SASDataFrame**, you can use the Pandas loc method to obtain the columns **ID**, **Year**, **Age**, and **Amount** as you would with a **pandas.DataFrame**. \n",
    "\n",
    "**Note:** Because the CAS server distributes data blocks among the workers, you must sort the data for guaranteed order."
   ]
  },
  {
   "cell_type": "code",
   "execution_count": null,
   "metadata": {},
   "outputs": [],
   "source": [
    "(tbl\n",
    " .sort_values(by = ['Year','Age'], \n",
    "              ascending = [True,False])\n",
    " .head()\n",
    " .loc[:,['ID','Year','Age','Amount']])               "
   ]
  },
  {
   "cell_type": "markdown",
   "metadata": {},
   "source": [
    "c. Preview the CAS table using the fetch CAS action. The fetch action processes the results in CAS and returns the summarized results as a **CASResults** object to the client."
   ]
  },
  {
   "cell_type": "code",
   "execution_count": null,
   "metadata": {},
   "outputs": [],
   "source": [
    "tbl.fetch(to = 5)"
   ]
  },
  {
   "cell_type": "markdown",
   "metadata": {},
   "source": [
    "d. Sort the results of the fetch action by a single column using the sortBy parameter. The default sort order is ascending."
   ]
  },
  {
   "cell_type": "code",
   "execution_count": null,
   "metadata": {},
   "outputs": [],
   "source": [
    "tbl.fetch(to = 5, \n",
    "          sortBy = 'Year')"
   ]
  },
  {
   "cell_type": "markdown",
   "metadata": {},
   "source": [
    "e. Sort the results of the fetch action by multiple columns by passing a list to the sortBy parameter."
   ]
  },
  {
   "cell_type": "code",
   "execution_count": null,
   "metadata": {},
   "outputs": [],
   "source": [
    "tbl.fetch(to = 5, \n",
    "          sortBy = ['Year', 'Age'])"
   ]
  },
  {
   "cell_type": "markdown",
   "metadata": {},
   "source": [
    "f. The fetch action allows you to modify the sort order for each column specified within the action. Here, sort the CAS table by ascending **Year** and descending **Age** by specifying a list of columns to sort in the sortBy parameter. Within the list, you can specify a single column to accept the default sort, or you can add a dictionary to modify the sort order."
   ]
  },
  {
   "cell_type": "code",
   "execution_count": null,
   "metadata": {},
   "outputs": [],
   "source": [
    "tbl.fetch(to = 5,\n",
    "          sortBy = ['Year', \n",
    "                    {'name':'Age', 'order':'descending'}\n",
    "                   ])"
   ]
  },
  {
   "cell_type": "markdown",
   "metadata": {},
   "source": [
    "g. You can also select specific columns within the action. Here, use the fetchVars parameter and specify the following list of columns: **ID**, **Year**, **Age**, and **Amount**."
   ]
  },
  {
   "cell_type": "code",
   "execution_count": null,
   "metadata": {},
   "outputs": [],
   "source": [
    "tbl.fetch(to = 5,\n",
    "          sortBy = ['Year', \n",
    "                    {'name':'Age', 'order':'descending'}\n",
    "                   ],\n",
    "          fetchVars = ['ID','Year','Age','Amount'])"
   ]
  },
  {
   "cell_type": "markdown",
   "metadata": {},
   "source": [
    "### 4. Explore a CAS Table"
   ]
  },
  {
   "cell_type": "markdown",
   "metadata": {},
   "source": [
    "a. View the CAS table dimensions using the shape attribute. The shape attribute returns a **tuple** to the client."
   ]
  },
  {
   "cell_type": "code",
   "execution_count": null,
   "metadata": {},
   "outputs": [],
   "source": [
    "tbl.shape"
   ]
  },
  {
   "cell_type": "markdown",
   "metadata": {},
   "source": [
    "b. Use the [simple.numRows](https://go.documentation.sas.com/doc/en/pgmsascdc/v_016/casanpg/cas-simple-numrows.htm?homeOnFail) action to display the number of rows in a CAS table."
   ]
  },
  {
   "cell_type": "code",
   "execution_count": null,
   "metadata": {},
   "outputs": [],
   "source": [
    "tbl.numRows()"
   ]
  },
  {
   "cell_type": "markdown",
   "metadata": {},
   "source": [
    "c. View the column names of a CAS table using the columns attribute."
   ]
  },
  {
   "cell_type": "code",
   "execution_count": null,
   "metadata": {},
   "outputs": [],
   "source": [
    "tbl.columns"
   ]
  },
  {
   "cell_type": "markdown",
   "metadata": {},
   "source": [
    "d. View the data types of the CAS table columns using the familiar dtypes attribute."
   ]
  },
  {
   "cell_type": "code",
   "execution_count": null,
   "metadata": {},
   "outputs": [],
   "source": [
    "tbl.dtypes"
   ]
  },
  {
   "cell_type": "markdown",
   "metadata": {},
   "source": [
    "e. Use the [table.columnInfo](https://go.documentation.sas.com/doc/en/pgmsascdc/v_016/caspg/cas-table-columninfo.htm) action to show a CAS table's column information. The columnInfo action shows additional CAS table column information like column labels and formats if they exist. The columnInfo action is recommended instead of dtypes."
   ]
  },
  {
   "cell_type": "code",
   "execution_count": null,
   "metadata": {},
   "outputs": [],
   "source": [
    "tbl.columnInfo()"
   ]
  },
  {
   "cell_type": "markdown",
   "metadata": {},
   "source": [
    "### 5. View Distinct and Missing Values"
   ]
  },
  {
   "cell_type": "markdown",
   "metadata": {},
   "source": [
    "a. Use the info method to print a summary of CAS table information. The info method returns information like the number of nonmissing values, column type, data size, and more."
   ]
  },
  {
   "cell_type": "code",
   "execution_count": null,
   "metadata": {},
   "outputs": [],
   "source": [
    "tbl.info()"
   ]
  },
  {
   "cell_type": "markdown",
   "metadata": {},
   "source": [
    "b. Use the nmiss method to view the number of missing values in each column of a CAS table. The CAS server returns a **series** to the client."
   ]
  },
  {
   "cell_type": "code",
   "execution_count": null,
   "metadata": {},
   "outputs": [],
   "source": [
    "tbl.nmiss()"
   ]
  },
  {
   "cell_type": "markdown",
   "metadata": {},
   "source": [
    "c. Use the [simple.distinct](https://documentation.sas.com/doc/en/pgmsascdc/v_018/casanpg/cas-simple-distinct.htm?homeOnFail) action to get the number of distinct and missing values for every column. Store the **SASDataFrame** from within the **CASResults** object in the variable **df** by calling the *Distinct* key after the action.\n",
    "\n",
    "**Note:** The distinct action is resource intensive, it can take some time to complete execution depending on the environment."
   ]
  },
  {
   "cell_type": "code",
   "execution_count": null,
   "metadata": {},
   "outputs": [],
   "source": [
    "##Execute the distinct action and store the SASDataFrame from the CASResults object\n",
    "df = tbl.distinct()['Distinct']\n",
    "df"
   ]
  },
  {
   "cell_type": "markdown",
   "metadata": {},
   "source": [
    "### 6. Calculate the Percentage of Distinct Values for Each Column"
   ]
  },
  {
   "cell_type": "markdown",
   "metadata": {},
   "source": [
    "a. Confirm that the variable **df** contains a **SASDataFrame** and then display the results. Remember, the **SASDataFrame** resides on the client."
   ]
  },
  {
   "cell_type": "code",
   "execution_count": null,
   "metadata": {},
   "outputs": [],
   "source": [
    "display(type(df), df)"
   ]
  },
  {
   "cell_type": "markdown",
   "metadata": {},
   "source": [
    "b. Use the numRows action to store the number of rows in the **LOANS_RAW** CAS table. Call the *numrows* key to return the number to the variable **n**."
   ]
  },
  {
   "cell_type": "code",
   "execution_count": null,
   "metadata": {},
   "outputs": [],
   "source": [
    "n = tbl.numRows()['numrows']\n",
    "n"
   ]
  },
  {
   "cell_type": "markdown",
   "metadata": {},
   "source": [
    "c. Because **df** is a **SASDataFrame**, you can use traditional Pandas functionality. Using traditional Pandas on the client, add a new column named **pctDistinct** to the **SASDataFrame** that divides the total number of distinct values by the total rows in the table and round the value. Then sort the **SASDataFrame** by the new **pctDistinct** column."
   ]
  },
  {
   "cell_type": "code",
   "execution_count": null,
   "metadata": {},
   "outputs": [],
   "source": [
    "## Create a new column named pctDistinct\n",
    "df['pctDistinct'] = round(df.NDistinct/n, ndigits = 6)\n",
    "\n",
    "## Sort the DataFrame by the pctDistinct column\n",
    "df.sort_values(by = 'pctDistinct', \n",
    "               ascending = False, \n",
    "               inplace = True)\n",
    "\n",
    "## View the SASDataFrame\n",
    "df"
   ]
  },
  {
   "cell_type": "markdown",
   "metadata": {},
   "source": [
    "d. Use the Pandas plot method to plot the **PctDistinct** column in the **SASDataFrame**. The visualization displays the percentage of distinct values for each column."
   ]
  },
  {
   "cell_type": "code",
   "execution_count": null,
   "metadata": {},
   "outputs": [],
   "source": [
    "df.plot(kind = 'bar', x = 'Column', y = 'pctDistinct', \n",
    "        figsize=(10,6));"
   ]
  },
  {
   "cell_type": "markdown",
   "metadata": {},
   "source": [
    "### 7. Terminate the CAS Session"
   ]
  },
  {
   "cell_type": "markdown",
   "metadata": {},
   "source": [
    "It's best practice to always terminate the CAS session when you are done."
   ]
  },
  {
   "cell_type": "code",
   "execution_count": null,
   "metadata": {},
   "outputs": [],
   "source": [
    "conn.terminate()"
   ]
  },
  {
   "cell_type": "markdown",
   "metadata": {},
   "source": [
    " "
   ]
  }
 ],
 "metadata": {
  "kernelspec": {
   "display_name": "Python 3 (ipykernel)",
   "language": "python",
   "name": "python3"
  },
  "language_info": {
   "codemirror_mode": {
    "name": "ipython",
    "version": 3
   },
   "file_extension": ".py",
   "mimetype": "text/x-python",
   "name": "python",
   "nbconvert_exporter": "python",
   "pygments_lexer": "ipython3",
   "version": "3.8.12"
  }
 },
 "nbformat": 4,
 "nbformat_minor": 4
}
