{
 "cells": [
  {
   "cell_type": "markdown",
   "metadata": {},
   "source": [
    "# Demo: Exploring Caslibs"
   ]
  },
  {
   "cell_type": "markdown",
   "metadata": {},
   "source": [
    "### 1. Import Packages\n",
    "\n",
    "Visit the documentation for the SWAT [(SAS Scripting Wrapper for Analytics Transfer)](https://sassoftware.github.io/python-swat/index.html) package."
   ]
  },
  {
   "cell_type": "code",
   "execution_count": null,
   "metadata": {},
   "outputs": [],
   "source": [
    "## Import packages\n",
    "import swat\n",
    "import pandas as pd\n",
    "import matplotlib.pyplot as plt\n",
    "plt.style.use('seaborn')\n",
    "\n",
    "## Set options\n",
    "pd.set_option('display.max_columns', None)"
   ]
  },
  {
   "cell_type": "markdown",
   "metadata": {},
   "source": [
    "### 2. Connect to the CAS Server\n",
    "Make a connection to the CAS server and name the variable **conn**. Add the name parameter to name the CAS session. This makes it easier to identify CAS sessions if you create multiple connections to CAS and forget to terminate them. Execute the listSessions action to see a list of CAS sessions. Notice that the most recent CAS session has the session name py02d01."
   ]
  },
  {
   "cell_type": "code",
   "execution_count": null,
   "metadata": {},
   "outputs": [],
   "source": [
    "conn = swat.CAS('server.demo.sas.com', 30571, 'student', 'Metadata0', name = 'py02d01')\n",
    "conn.listSessions()"
   ]
  },
  {
   "cell_type": "markdown",
   "metadata": {},
   "source": [
    "### 3. Explore Available Caslibs\n",
    "\n",
    "\n",
    "a. Use the [table.caslibInfo](https://go.documentation.sas.com/doc/en/pgmsascdc/v_016/caspg/cas-table-caslibinfo.htm?homeOnFail) action to display a list of available caslibs.\n",
    "\n",
    "**Note**: Results might differ."
   ]
  },
  {
   "cell_type": "code",
   "execution_count": null,
   "metadata": {},
   "outputs": [],
   "source": [
    "conn.caslibInfo()"
   ]
  },
  {
   "cell_type": "markdown",
   "metadata": {},
   "source": [
    "b. View the object returned from the caslibInfo action. Notice that an action returns a **CASResults** object."
   ]
  },
  {
   "cell_type": "code",
   "execution_count": null,
   "metadata": {},
   "outputs": [],
   "source": [
    "type(conn.caslibInfo())"
   ]
  },
  {
   "cell_type": "markdown",
   "metadata": {},
   "source": [
    "c. Begin working with the **CASResults** object. Start by creating a variable named **df** that contains the **SASDataFrame** from the results of the caslibInfo action by calling the *CASLibInfo* key. Then view the object type and display the value."
   ]
  },
  {
   "cell_type": "code",
   "execution_count": null,
   "metadata": {},
   "outputs": [],
   "source": [
    "## Store the results of the caslibInfo action\n",
    "df = conn.caslibInfo()['CASLibInfo']\n",
    "\n",
    "## View the object type. Confirm it's a SASDataFrame\n",
    "display(type(df), df)"
   ]
  },
  {
   "cell_type": "markdown",
   "metadata": {},
   "source": [
    "d. Once you have the **SASDataFrame** object on the client, you can use traditional Pandas functionality. Here, specify a list of column names to retrieve in a variable named **cols**. Then use the Pandas loc method to return all rows and the specified columns from the **SASDataFrame**."
   ]
  },
  {
   "cell_type": "code",
   "execution_count": null,
   "metadata": {},
   "outputs": [],
   "source": [
    "## Specify the columns to return\n",
    "cols = ['Name','Type','Path']\n",
    "\n",
    "## View the specified columns of the SASDataFrame using Pandas\n",
    "df.loc[:,cols]"
   ]
  },
  {
   "cell_type": "markdown",
   "metadata": {},
   "source": [
    "### 4. Explore Available Data Source Files\n",
    "\n",
    "a. Use the [table.fileInfo](https://go.documentation.sas.com/doc/en/pgmsascdc/v_016/caspg/cas-table-fileinfo.htm) action to display a list of files in a caslib's data source. By default, the fileInfo action uses the active caslib **Casuser**. Execute the cell. Notice that no data source files reside in the **Casuser** caslib."
   ]
  },
  {
   "cell_type": "code",
   "execution_count": null,
   "metadata": {},
   "outputs": [],
   "source": [
    "conn.fileInfo()"
   ]
  },
  {
   "cell_type": "markdown",
   "metadata": {},
   "source": [
    "b. It's best practice to specify the caslib parameter in every action and not rely on the active caslib. In this example, the caslib parameter is specified with the **PIVY** caslib. Notice that the results in a path-based caslib can contain a variety of file types."
   ]
  },
  {
   "cell_type": "code",
   "execution_count": null,
   "metadata": {},
   "outputs": [],
   "source": [
    "conn.fileInfo(caslib = 'PIVY')"
   ]
  },
  {
   "cell_type": "markdown",
   "metadata": {},
   "source": [
    "### 5. Explore Available CAS Tables\n",
    "\n",
    "Use the [table.tableInfo](https://go.documentation.sas.com/doc/en/pgmsascdc/v_016/caspg/cas-table-tableinfo.htm?homeOnFail) action to display a list of available in-memory CAS tables in a caslib. Notice the **CARS** table is already loaded into memory and available for processing.\n",
    "\n",
    "**Note**: Results might differ, but the **CARS** table should be available."
   ]
  },
  {
   "cell_type": "code",
   "execution_count": null,
   "metadata": {},
   "outputs": [],
   "source": [
    "conn.tableInfo(caslib = 'casuser')"
   ]
  },
  {
   "cell_type": "markdown",
   "metadata": {},
   "source": [
    "### 6. Terminate the CAS Session"
   ]
  },
  {
   "cell_type": "markdown",
   "metadata": {},
   "source": [
    "It's best practice to always terminate the CAS session when you are done."
   ]
  },
  {
   "cell_type": "code",
   "execution_count": null,
   "metadata": {},
   "outputs": [],
   "source": [
    "conn.terminate()"
   ]
  },
  {
   "cell_type": "markdown",
   "metadata": {},
   "source": [
    " "
   ]
  }
 ],
 "metadata": {
  "kernelspec": {
   "display_name": "Python 3 (ipykernel)",
   "language": "python",
   "name": "python3"
  },
  "language_info": {
   "codemirror_mode": {
    "name": "ipython",
    "version": 3
   },
   "file_extension": ".py",
   "mimetype": "text/x-python",
   "name": "python",
   "nbconvert_exporter": "python",
   "pygments_lexer": "ipython3",
   "version": "3.8.12"
  }
 },
 "nbformat": 4,
 "nbformat_minor": 4
}
